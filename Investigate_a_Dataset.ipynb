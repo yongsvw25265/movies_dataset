{
 "cells": [
  {
   "cell_type": "markdown",
   "metadata": {},
   "source": [
    "# <font color='darkblue'>Project: Investigate a TMDb movies Dataset</font>\n",
    "\n",
    "## <font color='gray'>Table of Contents</font>\n",
    "<ul>\n",
    "<li><a href=\"#intro\">1) Introduction</a></li>\n",
    "<li><a href=\"#wrangling\">2) Data Wrangling</a></li>\n",
    "<li><a href=\"#eda\">3) Exploratory Data Analysis</a></li>\n",
    "<li><a href=\"#conclusions\">4) Conclusions</a></li>\n",
    "</ul>"
   ]
  },
  {
   "cell_type": "markdown",
   "metadata": {},
   "source": [
    "<a id='intro'></a>\n",
    "## <font color='crimson'>1) Introduction</font>\n",
    "\n",
    "> **Overview**:<br>\n",
    "Movies data set contains information about 10,000 movies collected from The Movie Database (TMDb),<br>\n",
    "including id, release date, ratings, budget, revenue, cast, director, genres,  runtime and tagline.\n",
    "\n",
    "> **Questions**:<br>\n",
    "- Which genres generated the most profit over the time? <br>\n",
    "- Are more budget provided to movies in 21st century than 20th century? <br>\n",
    "- What is the most popular movies in 21st century era, what genres is it and what year it released? <br>\n",
    "- Who is director of the most popular movies in 20th century and the amount of profit that movie got? <br>\n",
    "- Are there association between the run time and other features?"
   ]
  },
  {
   "cell_type": "code",
   "execution_count": 1,
   "metadata": {},
   "outputs": [],
   "source": [
    "# import packages\n",
    "import pandas as pd\n",
    "import numpy as np\n",
    "import matplotlib.pyplot as plt\n",
    "import seaborn as sns\n",
    "sns.set_style('darkgrid')\n",
    "%matplotlib inline  "
   ]
  },
  {
   "cell_type": "markdown",
   "metadata": {},
   "source": [
    "<a id='wrangling'></a>\n",
    "## <font color='crimson'>2) Data Wrangling</font>\n",
    "\n",
    "\n",
    "### Gather and Access data"
   ]
  },
  {
   "cell_type": "code",
   "execution_count": 2,
   "metadata": {
    "scrolled": true
   },
   "outputs": [
    {
     "data": {
      "text/html": [
       "<div>\n",
       "<style scoped>\n",
       "    .dataframe tbody tr th:only-of-type {\n",
       "        vertical-align: middle;\n",
       "    }\n",
       "\n",
       "    .dataframe tbody tr th {\n",
       "        vertical-align: top;\n",
       "    }\n",
       "\n",
       "    .dataframe thead th {\n",
       "        text-align: right;\n",
       "    }\n",
       "</style>\n",
       "<table border=\"1\" class=\"dataframe\">\n",
       "  <thead>\n",
       "    <tr style=\"text-align: right;\">\n",
       "      <th></th>\n",
       "      <th>id</th>\n",
       "      <th>imdb_id</th>\n",
       "      <th>popularity</th>\n",
       "      <th>budget</th>\n",
       "      <th>revenue</th>\n",
       "      <th>original_title</th>\n",
       "      <th>cast</th>\n",
       "      <th>homepage</th>\n",
       "      <th>director</th>\n",
       "      <th>tagline</th>\n",
       "      <th>...</th>\n",
       "      <th>overview</th>\n",
       "      <th>runtime</th>\n",
       "      <th>genres</th>\n",
       "      <th>production_companies</th>\n",
       "      <th>release_date</th>\n",
       "      <th>vote_count</th>\n",
       "      <th>vote_average</th>\n",
       "      <th>release_year</th>\n",
       "      <th>budget_adj</th>\n",
       "      <th>revenue_adj</th>\n",
       "    </tr>\n",
       "  </thead>\n",
       "  <tbody>\n",
       "    <tr>\n",
       "      <th>0</th>\n",
       "      <td>135397</td>\n",
       "      <td>tt0369610</td>\n",
       "      <td>32.985763</td>\n",
       "      <td>150000000</td>\n",
       "      <td>1513528810</td>\n",
       "      <td>Jurassic World</td>\n",
       "      <td>Chris Pratt|Bryce Dallas Howard|Irrfan Khan|Vi...</td>\n",
       "      <td>http://www.jurassicworld.com/</td>\n",
       "      <td>Colin Trevorrow</td>\n",
       "      <td>The park is open.</td>\n",
       "      <td>...</td>\n",
       "      <td>Twenty-two years after the events of Jurassic ...</td>\n",
       "      <td>124</td>\n",
       "      <td>Action|Adventure|Science Fiction|Thriller</td>\n",
       "      <td>Universal Studios|Amblin Entertainment|Legenda...</td>\n",
       "      <td>6/9/15</td>\n",
       "      <td>5562</td>\n",
       "      <td>6.5</td>\n",
       "      <td>2015</td>\n",
       "      <td>1.379999e+08</td>\n",
       "      <td>1.392446e+09</td>\n",
       "    </tr>\n",
       "    <tr>\n",
       "      <th>1</th>\n",
       "      <td>76341</td>\n",
       "      <td>tt1392190</td>\n",
       "      <td>28.419936</td>\n",
       "      <td>150000000</td>\n",
       "      <td>378436354</td>\n",
       "      <td>Mad Max: Fury Road</td>\n",
       "      <td>Tom Hardy|Charlize Theron|Hugh Keays-Byrne|Nic...</td>\n",
       "      <td>http://www.madmaxmovie.com/</td>\n",
       "      <td>George Miller</td>\n",
       "      <td>What a Lovely Day.</td>\n",
       "      <td>...</td>\n",
       "      <td>An apocalyptic story set in the furthest reach...</td>\n",
       "      <td>120</td>\n",
       "      <td>Action|Adventure|Science Fiction|Thriller</td>\n",
       "      <td>Village Roadshow Pictures|Kennedy Miller Produ...</td>\n",
       "      <td>5/13/15</td>\n",
       "      <td>6185</td>\n",
       "      <td>7.1</td>\n",
       "      <td>2015</td>\n",
       "      <td>1.379999e+08</td>\n",
       "      <td>3.481613e+08</td>\n",
       "    </tr>\n",
       "    <tr>\n",
       "      <th>2</th>\n",
       "      <td>262500</td>\n",
       "      <td>tt2908446</td>\n",
       "      <td>13.112507</td>\n",
       "      <td>110000000</td>\n",
       "      <td>295238201</td>\n",
       "      <td>Insurgent</td>\n",
       "      <td>Shailene Woodley|Theo James|Kate Winslet|Ansel...</td>\n",
       "      <td>http://www.thedivergentseries.movie/#insurgent</td>\n",
       "      <td>Robert Schwentke</td>\n",
       "      <td>One Choice Can Destroy You</td>\n",
       "      <td>...</td>\n",
       "      <td>Beatrice Prior must confront her inner demons ...</td>\n",
       "      <td>119</td>\n",
       "      <td>Adventure|Science Fiction|Thriller</td>\n",
       "      <td>Summit Entertainment|Mandeville Films|Red Wago...</td>\n",
       "      <td>3/18/15</td>\n",
       "      <td>2480</td>\n",
       "      <td>6.3</td>\n",
       "      <td>2015</td>\n",
       "      <td>1.012000e+08</td>\n",
       "      <td>2.716190e+08</td>\n",
       "    </tr>\n",
       "  </tbody>\n",
       "</table>\n",
       "<p>3 rows × 21 columns</p>\n",
       "</div>"
      ],
      "text/plain": [
       "       id    imdb_id  popularity     budget     revenue      original_title  \\\n",
       "0  135397  tt0369610   32.985763  150000000  1513528810      Jurassic World   \n",
       "1   76341  tt1392190   28.419936  150000000   378436354  Mad Max: Fury Road   \n",
       "2  262500  tt2908446   13.112507  110000000   295238201           Insurgent   \n",
       "\n",
       "                                                cast  \\\n",
       "0  Chris Pratt|Bryce Dallas Howard|Irrfan Khan|Vi...   \n",
       "1  Tom Hardy|Charlize Theron|Hugh Keays-Byrne|Nic...   \n",
       "2  Shailene Woodley|Theo James|Kate Winslet|Ansel...   \n",
       "\n",
       "                                         homepage          director  \\\n",
       "0                   http://www.jurassicworld.com/   Colin Trevorrow   \n",
       "1                     http://www.madmaxmovie.com/     George Miller   \n",
       "2  http://www.thedivergentseries.movie/#insurgent  Robert Schwentke   \n",
       "\n",
       "                      tagline  ...  \\\n",
       "0           The park is open.  ...   \n",
       "1          What a Lovely Day.  ...   \n",
       "2  One Choice Can Destroy You  ...   \n",
       "\n",
       "                                            overview runtime  \\\n",
       "0  Twenty-two years after the events of Jurassic ...     124   \n",
       "1  An apocalyptic story set in the furthest reach...     120   \n",
       "2  Beatrice Prior must confront her inner demons ...     119   \n",
       "\n",
       "                                      genres  \\\n",
       "0  Action|Adventure|Science Fiction|Thriller   \n",
       "1  Action|Adventure|Science Fiction|Thriller   \n",
       "2         Adventure|Science Fiction|Thriller   \n",
       "\n",
       "                                production_companies release_date vote_count  \\\n",
       "0  Universal Studios|Amblin Entertainment|Legenda...       6/9/15       5562   \n",
       "1  Village Roadshow Pictures|Kennedy Miller Produ...      5/13/15       6185   \n",
       "2  Summit Entertainment|Mandeville Films|Red Wago...      3/18/15       2480   \n",
       "\n",
       "   vote_average  release_year    budget_adj   revenue_adj  \n",
       "0           6.5          2015  1.379999e+08  1.392446e+09  \n",
       "1           7.1          2015  1.379999e+08  3.481613e+08  \n",
       "2           6.3          2015  1.012000e+08  2.716190e+08  \n",
       "\n",
       "[3 rows x 21 columns]"
      ]
     },
     "execution_count": 2,
     "metadata": {},
     "output_type": "execute_result"
    }
   ],
   "source": [
    "# import data and print 3 first rows\n",
    "df = pd.read_csv('movies.csv')\n",
    "df.head(3)"
   ]
  },
  {
   "cell_type": "code",
   "execution_count": 3,
   "metadata": {},
   "outputs": [
    {
     "data": {
      "text/plain": [
       "(10866, 21)"
      ]
     },
     "execution_count": 3,
     "metadata": {},
     "output_type": "execute_result"
    }
   ],
   "source": [
    "# see the shape of dataframe\n",
    "df.shape"
   ]
  },
  {
   "cell_type": "code",
   "execution_count": 4,
   "metadata": {},
   "outputs": [
    {
     "name": "stdout",
     "output_type": "stream",
     "text": [
      "<class 'pandas.core.frame.DataFrame'>\n",
      "RangeIndex: 10866 entries, 0 to 10865\n",
      "Data columns (total 21 columns):\n",
      "id                      10866 non-null int64\n",
      "imdb_id                 10856 non-null object\n",
      "popularity              10866 non-null float64\n",
      "budget                  10866 non-null int64\n",
      "revenue                 10866 non-null int64\n",
      "original_title          10866 non-null object\n",
      "cast                    10790 non-null object\n",
      "homepage                2936 non-null object\n",
      "director                10822 non-null object\n",
      "tagline                 8042 non-null object\n",
      "keywords                9373 non-null object\n",
      "overview                10862 non-null object\n",
      "runtime                 10866 non-null int64\n",
      "genres                  10843 non-null object\n",
      "production_companies    9836 non-null object\n",
      "release_date            10866 non-null object\n",
      "vote_count              10866 non-null int64\n",
      "vote_average            10866 non-null float64\n",
      "release_year            10866 non-null int64\n",
      "budget_adj              10866 non-null float64\n",
      "revenue_adj             10866 non-null float64\n",
      "dtypes: float64(4), int64(6), object(11)\n",
      "memory usage: 1.7+ MB\n"
     ]
    }
   ],
   "source": [
    "# schema details of dataframe\n",
    "df.info()"
   ]
  },
  {
   "cell_type": "code",
   "execution_count": 5,
   "metadata": {
    "scrolled": false
   },
   "outputs": [
    {
     "data": {
      "text/html": [
       "<div>\n",
       "<style scoped>\n",
       "    .dataframe tbody tr th:only-of-type {\n",
       "        vertical-align: middle;\n",
       "    }\n",
       "\n",
       "    .dataframe tbody tr th {\n",
       "        vertical-align: top;\n",
       "    }\n",
       "\n",
       "    .dataframe thead th {\n",
       "        text-align: right;\n",
       "    }\n",
       "</style>\n",
       "<table border=\"1\" class=\"dataframe\">\n",
       "  <thead>\n",
       "    <tr style=\"text-align: right;\">\n",
       "      <th></th>\n",
       "      <th>id</th>\n",
       "      <th>popularity</th>\n",
       "      <th>budget</th>\n",
       "      <th>revenue</th>\n",
       "      <th>runtime</th>\n",
       "      <th>vote_count</th>\n",
       "      <th>vote_average</th>\n",
       "      <th>release_year</th>\n",
       "      <th>budget_adj</th>\n",
       "      <th>revenue_adj</th>\n",
       "    </tr>\n",
       "  </thead>\n",
       "  <tbody>\n",
       "    <tr>\n",
       "      <th>count</th>\n",
       "      <td>10866.000000</td>\n",
       "      <td>10866.000000</td>\n",
       "      <td>1.086600e+04</td>\n",
       "      <td>1.086600e+04</td>\n",
       "      <td>10866.000000</td>\n",
       "      <td>10866.000000</td>\n",
       "      <td>10866.000000</td>\n",
       "      <td>10866.000000</td>\n",
       "      <td>1.086600e+04</td>\n",
       "      <td>1.086600e+04</td>\n",
       "    </tr>\n",
       "    <tr>\n",
       "      <th>mean</th>\n",
       "      <td>66064.177434</td>\n",
       "      <td>0.646441</td>\n",
       "      <td>1.462570e+07</td>\n",
       "      <td>3.982332e+07</td>\n",
       "      <td>102.070863</td>\n",
       "      <td>217.389748</td>\n",
       "      <td>5.974922</td>\n",
       "      <td>2001.322658</td>\n",
       "      <td>1.755104e+07</td>\n",
       "      <td>5.136436e+07</td>\n",
       "    </tr>\n",
       "    <tr>\n",
       "      <th>std</th>\n",
       "      <td>92130.136561</td>\n",
       "      <td>1.000185</td>\n",
       "      <td>3.091321e+07</td>\n",
       "      <td>1.170035e+08</td>\n",
       "      <td>31.381405</td>\n",
       "      <td>575.619058</td>\n",
       "      <td>0.935142</td>\n",
       "      <td>12.812941</td>\n",
       "      <td>3.430616e+07</td>\n",
       "      <td>1.446325e+08</td>\n",
       "    </tr>\n",
       "    <tr>\n",
       "      <th>min</th>\n",
       "      <td>5.000000</td>\n",
       "      <td>0.000065</td>\n",
       "      <td>0.000000e+00</td>\n",
       "      <td>0.000000e+00</td>\n",
       "      <td>0.000000</td>\n",
       "      <td>10.000000</td>\n",
       "      <td>1.500000</td>\n",
       "      <td>1960.000000</td>\n",
       "      <td>0.000000e+00</td>\n",
       "      <td>0.000000e+00</td>\n",
       "    </tr>\n",
       "    <tr>\n",
       "      <th>25%</th>\n",
       "      <td>10596.250000</td>\n",
       "      <td>0.207583</td>\n",
       "      <td>0.000000e+00</td>\n",
       "      <td>0.000000e+00</td>\n",
       "      <td>90.000000</td>\n",
       "      <td>17.000000</td>\n",
       "      <td>5.400000</td>\n",
       "      <td>1995.000000</td>\n",
       "      <td>0.000000e+00</td>\n",
       "      <td>0.000000e+00</td>\n",
       "    </tr>\n",
       "    <tr>\n",
       "      <th>50%</th>\n",
       "      <td>20669.000000</td>\n",
       "      <td>0.383856</td>\n",
       "      <td>0.000000e+00</td>\n",
       "      <td>0.000000e+00</td>\n",
       "      <td>99.000000</td>\n",
       "      <td>38.000000</td>\n",
       "      <td>6.000000</td>\n",
       "      <td>2006.000000</td>\n",
       "      <td>0.000000e+00</td>\n",
       "      <td>0.000000e+00</td>\n",
       "    </tr>\n",
       "    <tr>\n",
       "      <th>75%</th>\n",
       "      <td>75610.000000</td>\n",
       "      <td>0.713817</td>\n",
       "      <td>1.500000e+07</td>\n",
       "      <td>2.400000e+07</td>\n",
       "      <td>111.000000</td>\n",
       "      <td>145.750000</td>\n",
       "      <td>6.600000</td>\n",
       "      <td>2011.000000</td>\n",
       "      <td>2.085325e+07</td>\n",
       "      <td>3.369710e+07</td>\n",
       "    </tr>\n",
       "    <tr>\n",
       "      <th>max</th>\n",
       "      <td>417859.000000</td>\n",
       "      <td>32.985763</td>\n",
       "      <td>4.250000e+08</td>\n",
       "      <td>2.781506e+09</td>\n",
       "      <td>900.000000</td>\n",
       "      <td>9767.000000</td>\n",
       "      <td>9.200000</td>\n",
       "      <td>2015.000000</td>\n",
       "      <td>4.250000e+08</td>\n",
       "      <td>2.827124e+09</td>\n",
       "    </tr>\n",
       "  </tbody>\n",
       "</table>\n",
       "</div>"
      ],
      "text/plain": [
       "                  id    popularity        budget       revenue       runtime  \\\n",
       "count   10866.000000  10866.000000  1.086600e+04  1.086600e+04  10866.000000   \n",
       "mean    66064.177434      0.646441  1.462570e+07  3.982332e+07    102.070863   \n",
       "std     92130.136561      1.000185  3.091321e+07  1.170035e+08     31.381405   \n",
       "min         5.000000      0.000065  0.000000e+00  0.000000e+00      0.000000   \n",
       "25%     10596.250000      0.207583  0.000000e+00  0.000000e+00     90.000000   \n",
       "50%     20669.000000      0.383856  0.000000e+00  0.000000e+00     99.000000   \n",
       "75%     75610.000000      0.713817  1.500000e+07  2.400000e+07    111.000000   \n",
       "max    417859.000000     32.985763  4.250000e+08  2.781506e+09    900.000000   \n",
       "\n",
       "         vote_count  vote_average  release_year    budget_adj   revenue_adj  \n",
       "count  10866.000000  10866.000000  10866.000000  1.086600e+04  1.086600e+04  \n",
       "mean     217.389748      5.974922   2001.322658  1.755104e+07  5.136436e+07  \n",
       "std      575.619058      0.935142     12.812941  3.430616e+07  1.446325e+08  \n",
       "min       10.000000      1.500000   1960.000000  0.000000e+00  0.000000e+00  \n",
       "25%       17.000000      5.400000   1995.000000  0.000000e+00  0.000000e+00  \n",
       "50%       38.000000      6.000000   2006.000000  0.000000e+00  0.000000e+00  \n",
       "75%      145.750000      6.600000   2011.000000  2.085325e+07  3.369710e+07  \n",
       "max     9767.000000      9.200000   2015.000000  4.250000e+08  2.827124e+09  "
      ]
     },
     "execution_count": 5,
     "metadata": {},
     "output_type": "execute_result"
    }
   ],
   "source": [
    "# descriptive statistics of columns\n",
    "df.describe()"
   ]
  },
  {
   "cell_type": "markdown",
   "metadata": {},
   "source": [
    "### Data Cleaning\n",
    "\n",
    "> Drop Extraneous Columns<br>\n",
    "Delete Duplicated row(s)<br>\n",
    "Drop Row(s) with Missing Values"
   ]
  },
  {
   "cell_type": "code",
   "execution_count": 6,
   "metadata": {
    "scrolled": true
   },
   "outputs": [],
   "source": [
    "# drop extraneous columns\n",
    "df.drop(['id', 'imdb_id', 'homepage', 'overview', 'keywords', 'production_companies', 'tagline', 'cast', 'release_date', 'vote_count', 'vote_average'], axis=1, inplace=True)"
   ]
  },
  {
   "cell_type": "code",
   "execution_count": 7,
   "metadata": {},
   "outputs": [
    {
     "data": {
      "text/html": [
       "<div>\n",
       "<style scoped>\n",
       "    .dataframe tbody tr th:only-of-type {\n",
       "        vertical-align: middle;\n",
       "    }\n",
       "\n",
       "    .dataframe tbody tr th {\n",
       "        vertical-align: top;\n",
       "    }\n",
       "\n",
       "    .dataframe thead th {\n",
       "        text-align: right;\n",
       "    }\n",
       "</style>\n",
       "<table border=\"1\" class=\"dataframe\">\n",
       "  <thead>\n",
       "    <tr style=\"text-align: right;\">\n",
       "      <th></th>\n",
       "      <th>popularity</th>\n",
       "      <th>budget</th>\n",
       "      <th>revenue</th>\n",
       "      <th>original_title</th>\n",
       "      <th>director</th>\n",
       "      <th>runtime</th>\n",
       "      <th>genres</th>\n",
       "      <th>release_year</th>\n",
       "      <th>budget_adj</th>\n",
       "      <th>revenue_adj</th>\n",
       "    </tr>\n",
       "  </thead>\n",
       "  <tbody>\n",
       "    <tr>\n",
       "      <th>0</th>\n",
       "      <td>32.985763</td>\n",
       "      <td>150000000</td>\n",
       "      <td>1513528810</td>\n",
       "      <td>Jurassic World</td>\n",
       "      <td>Colin Trevorrow</td>\n",
       "      <td>124</td>\n",
       "      <td>Action|Adventure|Science Fiction|Thriller</td>\n",
       "      <td>2015</td>\n",
       "      <td>1.379999e+08</td>\n",
       "      <td>1.392446e+09</td>\n",
       "    </tr>\n",
       "    <tr>\n",
       "      <th>1</th>\n",
       "      <td>28.419936</td>\n",
       "      <td>150000000</td>\n",
       "      <td>378436354</td>\n",
       "      <td>Mad Max: Fury Road</td>\n",
       "      <td>George Miller</td>\n",
       "      <td>120</td>\n",
       "      <td>Action|Adventure|Science Fiction|Thriller</td>\n",
       "      <td>2015</td>\n",
       "      <td>1.379999e+08</td>\n",
       "      <td>3.481613e+08</td>\n",
       "    </tr>\n",
       "    <tr>\n",
       "      <th>2</th>\n",
       "      <td>13.112507</td>\n",
       "      <td>110000000</td>\n",
       "      <td>295238201</td>\n",
       "      <td>Insurgent</td>\n",
       "      <td>Robert Schwentke</td>\n",
       "      <td>119</td>\n",
       "      <td>Adventure|Science Fiction|Thriller</td>\n",
       "      <td>2015</td>\n",
       "      <td>1.012000e+08</td>\n",
       "      <td>2.716190e+08</td>\n",
       "    </tr>\n",
       "    <tr>\n",
       "      <th>3</th>\n",
       "      <td>11.173104</td>\n",
       "      <td>200000000</td>\n",
       "      <td>2068178225</td>\n",
       "      <td>Star Wars: The Force Awakens</td>\n",
       "      <td>J.J. Abrams</td>\n",
       "      <td>136</td>\n",
       "      <td>Action|Adventure|Science Fiction|Fantasy</td>\n",
       "      <td>2015</td>\n",
       "      <td>1.839999e+08</td>\n",
       "      <td>1.902723e+09</td>\n",
       "    </tr>\n",
       "    <tr>\n",
       "      <th>4</th>\n",
       "      <td>9.335014</td>\n",
       "      <td>190000000</td>\n",
       "      <td>1506249360</td>\n",
       "      <td>Furious 7</td>\n",
       "      <td>James Wan</td>\n",
       "      <td>137</td>\n",
       "      <td>Action|Crime|Thriller</td>\n",
       "      <td>2015</td>\n",
       "      <td>1.747999e+08</td>\n",
       "      <td>1.385749e+09</td>\n",
       "    </tr>\n",
       "  </tbody>\n",
       "</table>\n",
       "</div>"
      ],
      "text/plain": [
       "   popularity     budget     revenue                original_title  \\\n",
       "0   32.985763  150000000  1513528810                Jurassic World   \n",
       "1   28.419936  150000000   378436354            Mad Max: Fury Road   \n",
       "2   13.112507  110000000   295238201                     Insurgent   \n",
       "3   11.173104  200000000  2068178225  Star Wars: The Force Awakens   \n",
       "4    9.335014  190000000  1506249360                     Furious 7   \n",
       "\n",
       "           director  runtime                                     genres  \\\n",
       "0   Colin Trevorrow      124  Action|Adventure|Science Fiction|Thriller   \n",
       "1     George Miller      120  Action|Adventure|Science Fiction|Thriller   \n",
       "2  Robert Schwentke      119         Adventure|Science Fiction|Thriller   \n",
       "3       J.J. Abrams      136   Action|Adventure|Science Fiction|Fantasy   \n",
       "4         James Wan      137                      Action|Crime|Thriller   \n",
       "\n",
       "   release_year    budget_adj   revenue_adj  \n",
       "0          2015  1.379999e+08  1.392446e+09  \n",
       "1          2015  1.379999e+08  3.481613e+08  \n",
       "2          2015  1.012000e+08  2.716190e+08  \n",
       "3          2015  1.839999e+08  1.902723e+09  \n",
       "4          2015  1.747999e+08  1.385749e+09  "
      ]
     },
     "execution_count": 7,
     "metadata": {},
     "output_type": "execute_result"
    }
   ],
   "source": [
    "# confirm changes after drop\n",
    "df.head(5)"
   ]
  },
  {
   "cell_type": "code",
   "execution_count": 8,
   "metadata": {
    "scrolled": true
   },
   "outputs": [
    {
     "data": {
      "text/plain": [
       "(10866, 10)"
      ]
     },
     "execution_count": 8,
     "metadata": {},
     "output_type": "execute_result"
    }
   ],
   "source": [
    "# view dimensions of dataset\n",
    "df.shape"
   ]
  },
  {
   "cell_type": "code",
   "execution_count": 9,
   "metadata": {},
   "outputs": [
    {
     "name": "stdout",
     "output_type": "stream",
     "text": [
      "1\n"
     ]
    }
   ],
   "source": [
    "# no. of duplicated row(s)\n",
    "print(df.duplicated().sum())"
   ]
  },
  {
   "cell_type": "code",
   "execution_count": 10,
   "metadata": {},
   "outputs": [],
   "source": [
    "# drop duplicatedrow(s)\n",
    "df.drop_duplicates(inplace=True)"
   ]
  },
  {
   "cell_type": "code",
   "execution_count": 11,
   "metadata": {},
   "outputs": [
    {
     "name": "stdout",
     "output_type": "stream",
     "text": [
      "0\n"
     ]
    }
   ],
   "source": [
    "# confirm dedupe\n",
    "print(df.duplicated().sum())"
   ]
  },
  {
   "cell_type": "code",
   "execution_count": 12,
   "metadata": {},
   "outputs": [
    {
     "data": {
      "text/plain": [
       "popularity         0\n",
       "budget             0\n",
       "revenue            0\n",
       "original_title     0\n",
       "director          44\n",
       "runtime            0\n",
       "genres            23\n",
       "release_year       0\n",
       "budget_adj         0\n",
       "revenue_adj        0\n",
       "dtype: int64"
      ]
     },
     "execution_count": 12,
     "metadata": {},
     "output_type": "execute_result"
    }
   ],
   "source": [
    "# view missing value count\n",
    "df.isnull().sum()"
   ]
  },
  {
   "cell_type": "code",
   "execution_count": 13,
   "metadata": {},
   "outputs": [],
   "source": [
    "# drop missing values\n",
    "df.dropna(inplace=True)"
   ]
  },
  {
   "cell_type": "code",
   "execution_count": 14,
   "metadata": {
    "scrolled": false
   },
   "outputs": [
    {
     "data": {
      "text/plain": [
       "False"
      ]
     },
     "execution_count": 14,
     "metadata": {},
     "output_type": "execute_result"
    }
   ],
   "source": [
    "# confirm no missing values (False: no missing values)\n",
    "df.isnull().sum().any()"
   ]
  },
  {
   "cell_type": "code",
   "execution_count": 15,
   "metadata": {},
   "outputs": [],
   "source": [
    "# save new dataset for next section\n",
    "df.to_csv('df_v1.csv', index=False)"
   ]
  },
  {
   "cell_type": "markdown",
   "metadata": {},
   "source": [
    "### Appending Data\n",
    "\n",
    "> Create new column: Century from release year<br>\n",
    "Create new column: Profit from Budget - Revenue<br>\n",
    "Append to dataframe<br>\n",
    "Choose only first genre appear in each row to reflect the genre of that movie"
   ]
  },
  {
   "cell_type": "code",
   "execution_count": 16,
   "metadata": {
    "scrolled": false
   },
   "outputs": [
    {
     "data": {
      "text/html": [
       "<div>\n",
       "<style scoped>\n",
       "    .dataframe tbody tr th:only-of-type {\n",
       "        vertical-align: middle;\n",
       "    }\n",
       "\n",
       "    .dataframe tbody tr th {\n",
       "        vertical-align: top;\n",
       "    }\n",
       "\n",
       "    .dataframe thead th {\n",
       "        text-align: right;\n",
       "    }\n",
       "</style>\n",
       "<table border=\"1\" class=\"dataframe\">\n",
       "  <thead>\n",
       "    <tr style=\"text-align: right;\">\n",
       "      <th></th>\n",
       "      <th>popularity</th>\n",
       "      <th>budget</th>\n",
       "      <th>revenue</th>\n",
       "      <th>original_title</th>\n",
       "      <th>director</th>\n",
       "      <th>runtime</th>\n",
       "      <th>genres</th>\n",
       "      <th>release_year</th>\n",
       "      <th>budget_adj</th>\n",
       "      <th>revenue_adj</th>\n",
       "    </tr>\n",
       "  </thead>\n",
       "  <tbody>\n",
       "    <tr>\n",
       "      <th>0</th>\n",
       "      <td>32.985763</td>\n",
       "      <td>150000000</td>\n",
       "      <td>1513528810</td>\n",
       "      <td>Jurassic World</td>\n",
       "      <td>Colin Trevorrow</td>\n",
       "      <td>124</td>\n",
       "      <td>Action|Adventure|Science Fiction|Thriller</td>\n",
       "      <td>2015</td>\n",
       "      <td>1.379999e+08</td>\n",
       "      <td>1.392446e+09</td>\n",
       "    </tr>\n",
       "    <tr>\n",
       "      <th>1</th>\n",
       "      <td>28.419936</td>\n",
       "      <td>150000000</td>\n",
       "      <td>378436354</td>\n",
       "      <td>Mad Max: Fury Road</td>\n",
       "      <td>George Miller</td>\n",
       "      <td>120</td>\n",
       "      <td>Action|Adventure|Science Fiction|Thriller</td>\n",
       "      <td>2015</td>\n",
       "      <td>1.379999e+08</td>\n",
       "      <td>3.481613e+08</td>\n",
       "    </tr>\n",
       "    <tr>\n",
       "      <th>2</th>\n",
       "      <td>13.112507</td>\n",
       "      <td>110000000</td>\n",
       "      <td>295238201</td>\n",
       "      <td>Insurgent</td>\n",
       "      <td>Robert Schwentke</td>\n",
       "      <td>119</td>\n",
       "      <td>Adventure|Science Fiction|Thriller</td>\n",
       "      <td>2015</td>\n",
       "      <td>1.012000e+08</td>\n",
       "      <td>2.716190e+08</td>\n",
       "    </tr>\n",
       "    <tr>\n",
       "      <th>3</th>\n",
       "      <td>11.173104</td>\n",
       "      <td>200000000</td>\n",
       "      <td>2068178225</td>\n",
       "      <td>Star Wars: The Force Awakens</td>\n",
       "      <td>J.J. Abrams</td>\n",
       "      <td>136</td>\n",
       "      <td>Action|Adventure|Science Fiction|Fantasy</td>\n",
       "      <td>2015</td>\n",
       "      <td>1.839999e+08</td>\n",
       "      <td>1.902723e+09</td>\n",
       "    </tr>\n",
       "    <tr>\n",
       "      <th>4</th>\n",
       "      <td>9.335014</td>\n",
       "      <td>190000000</td>\n",
       "      <td>1506249360</td>\n",
       "      <td>Furious 7</td>\n",
       "      <td>James Wan</td>\n",
       "      <td>137</td>\n",
       "      <td>Action|Crime|Thriller</td>\n",
       "      <td>2015</td>\n",
       "      <td>1.747999e+08</td>\n",
       "      <td>1.385749e+09</td>\n",
       "    </tr>\n",
       "  </tbody>\n",
       "</table>\n",
       "</div>"
      ],
      "text/plain": [
       "   popularity     budget     revenue                original_title  \\\n",
       "0   32.985763  150000000  1513528810                Jurassic World   \n",
       "1   28.419936  150000000   378436354            Mad Max: Fury Road   \n",
       "2   13.112507  110000000   295238201                     Insurgent   \n",
       "3   11.173104  200000000  2068178225  Star Wars: The Force Awakens   \n",
       "4    9.335014  190000000  1506249360                     Furious 7   \n",
       "\n",
       "           director  runtime                                     genres  \\\n",
       "0   Colin Trevorrow      124  Action|Adventure|Science Fiction|Thriller   \n",
       "1     George Miller      120  Action|Adventure|Science Fiction|Thriller   \n",
       "2  Robert Schwentke      119         Adventure|Science Fiction|Thriller   \n",
       "3       J.J. Abrams      136   Action|Adventure|Science Fiction|Fantasy   \n",
       "4         James Wan      137                      Action|Crime|Thriller   \n",
       "\n",
       "   release_year    budget_adj   revenue_adj  \n",
       "0          2015  1.379999e+08  1.392446e+09  \n",
       "1          2015  1.379999e+08  3.481613e+08  \n",
       "2          2015  1.012000e+08  2.716190e+08  \n",
       "3          2015  1.839999e+08  1.902723e+09  \n",
       "4          2015  1.747999e+08  1.385749e+09  "
      ]
     },
     "execution_count": 16,
     "metadata": {},
     "output_type": "execute_result"
    }
   ],
   "source": [
    "# read data set version 1\n",
    "df = pd.read_csv('df_v1.csv')\n",
    "df.head()"
   ]
  },
  {
   "cell_type": "code",
   "execution_count": 17,
   "metadata": {},
   "outputs": [],
   "source": [
    "# dataframe separate to century\n",
    "cen_20 = df.query('release_year <= 2000')\n",
    "cen_21 = df.query('release_year > 2000')"
   ]
  },
  {
   "cell_type": "code",
   "execution_count": 18,
   "metadata": {},
   "outputs": [],
   "source": [
    "# create century array for dataframe\n",
    "century_20 = np.repeat('20th', cen_20.shape[0])\n",
    "century_21 = np.repeat('21st', cen_21.shape[0])"
   ]
  },
  {
   "cell_type": "code",
   "execution_count": 19,
   "metadata": {
    "scrolled": true
   },
   "outputs": [],
   "source": [
    "# save 2 period of dataframe as 2 csv file\n",
    "cen_20.to_csv('cen_20.csv', index=False)\n",
    "cen_21.to_csv('cen_21.csv', index=False)"
   ]
  },
  {
   "cell_type": "code",
   "execution_count": 20,
   "metadata": {},
   "outputs": [],
   "source": [
    "# read 2 files of 2 centuries dataframe\n",
    "cen_20 = pd.read_csv('cen_20.csv')\n",
    "cen_21 = pd.read_csv('cen_21.csv')"
   ]
  },
  {
   "cell_type": "code",
   "execution_count": 21,
   "metadata": {},
   "outputs": [],
   "source": [
    "# continue appending new arrays to 2 files\n",
    "cen_20['century'] = century_20\n",
    "cen_21['century'] = century_21"
   ]
  },
  {
   "cell_type": "code",
   "execution_count": 22,
   "metadata": {},
   "outputs": [],
   "source": [
    "# combine 2 dataFrames with append\n",
    "df_cen = cen_20.append(cen_21)"
   ]
  },
  {
   "cell_type": "code",
   "execution_count": 23,
   "metadata": {},
   "outputs": [
    {
     "data": {
      "text/html": [
       "<div>\n",
       "<style scoped>\n",
       "    .dataframe tbody tr th:only-of-type {\n",
       "        vertical-align: middle;\n",
       "    }\n",
       "\n",
       "    .dataframe tbody tr th {\n",
       "        vertical-align: top;\n",
       "    }\n",
       "\n",
       "    .dataframe thead th {\n",
       "        text-align: right;\n",
       "    }\n",
       "</style>\n",
       "<table border=\"1\" class=\"dataframe\">\n",
       "  <thead>\n",
       "    <tr style=\"text-align: right;\">\n",
       "      <th></th>\n",
       "      <th>popularity</th>\n",
       "      <th>budget</th>\n",
       "      <th>revenue</th>\n",
       "      <th>original_title</th>\n",
       "      <th>director</th>\n",
       "      <th>runtime</th>\n",
       "      <th>genres</th>\n",
       "      <th>release_year</th>\n",
       "      <th>budget_adj</th>\n",
       "      <th>revenue_adj</th>\n",
       "      <th>century</th>\n",
       "      <th>profit</th>\n",
       "    </tr>\n",
       "  </thead>\n",
       "  <tbody>\n",
       "    <tr>\n",
       "      <th>0</th>\n",
       "      <td>12.037933</td>\n",
       "      <td>11000000</td>\n",
       "      <td>775398007</td>\n",
       "      <td>Star Wars</td>\n",
       "      <td>George Lucas</td>\n",
       "      <td>121</td>\n",
       "      <td>Adventure|Action|Science Fiction</td>\n",
       "      <td>1977</td>\n",
       "      <td>3.957559e+07</td>\n",
       "      <td>2.789712e+09</td>\n",
       "      <td>20th</td>\n",
       "      <td>764398007</td>\n",
       "    </tr>\n",
       "    <tr>\n",
       "      <th>1</th>\n",
       "      <td>2.379469</td>\n",
       "      <td>14000000</td>\n",
       "      <td>185438673</td>\n",
       "      <td>The Spy Who Loved Me</td>\n",
       "      <td>Lewis Gilbert</td>\n",
       "      <td>125</td>\n",
       "      <td>Adventure|Action|Thriller</td>\n",
       "      <td>1977</td>\n",
       "      <td>5.036893e+07</td>\n",
       "      <td>6.671677e+08</td>\n",
       "      <td>20th</td>\n",
       "      <td>171438673</td>\n",
       "    </tr>\n",
       "    <tr>\n",
       "      <th>2</th>\n",
       "      <td>1.719385</td>\n",
       "      <td>1200000</td>\n",
       "      <td>71215869</td>\n",
       "      <td>The Rescuers</td>\n",
       "      <td>John Lounsbery|Wolfgang Reitherman|Art Stevens</td>\n",
       "      <td>78</td>\n",
       "      <td>Fantasy|Family|Animation|Adventure</td>\n",
       "      <td>1977</td>\n",
       "      <td>4.317337e+06</td>\n",
       "      <td>2.562191e+08</td>\n",
       "      <td>20th</td>\n",
       "      <td>70015869</td>\n",
       "    </tr>\n",
       "    <tr>\n",
       "      <th>3</th>\n",
       "      <td>1.179653</td>\n",
       "      <td>4000000</td>\n",
       "      <td>38251425</td>\n",
       "      <td>Annie Hall</td>\n",
       "      <td>Woody Allen</td>\n",
       "      <td>93</td>\n",
       "      <td>Comedy|Drama|Romance</td>\n",
       "      <td>1977</td>\n",
       "      <td>1.439112e+07</td>\n",
       "      <td>1.376203e+08</td>\n",
       "      <td>20th</td>\n",
       "      <td>34251425</td>\n",
       "    </tr>\n",
       "    <tr>\n",
       "      <th>4</th>\n",
       "      <td>1.104997</td>\n",
       "      <td>10000000</td>\n",
       "      <td>0</td>\n",
       "      <td>Pete's Dragon</td>\n",
       "      <td>Don Chaffey</td>\n",
       "      <td>128</td>\n",
       "      <td>Fantasy|Animation|Comedy|Family</td>\n",
       "      <td>1977</td>\n",
       "      <td>3.597781e+07</td>\n",
       "      <td>0.000000e+00</td>\n",
       "      <td>20th</td>\n",
       "      <td>-10000000</td>\n",
       "    </tr>\n",
       "  </tbody>\n",
       "</table>\n",
       "</div>"
      ],
      "text/plain": [
       "   popularity    budget    revenue        original_title  \\\n",
       "0   12.037933  11000000  775398007             Star Wars   \n",
       "1    2.379469  14000000  185438673  The Spy Who Loved Me   \n",
       "2    1.719385   1200000   71215869          The Rescuers   \n",
       "3    1.179653   4000000   38251425            Annie Hall   \n",
       "4    1.104997  10000000          0         Pete's Dragon   \n",
       "\n",
       "                                         director  runtime  \\\n",
       "0                                    George Lucas      121   \n",
       "1                                   Lewis Gilbert      125   \n",
       "2  John Lounsbery|Wolfgang Reitherman|Art Stevens       78   \n",
       "3                                     Woody Allen       93   \n",
       "4                                     Don Chaffey      128   \n",
       "\n",
       "                               genres  release_year    budget_adj  \\\n",
       "0    Adventure|Action|Science Fiction          1977  3.957559e+07   \n",
       "1           Adventure|Action|Thriller          1977  5.036893e+07   \n",
       "2  Fantasy|Family|Animation|Adventure          1977  4.317337e+06   \n",
       "3                Comedy|Drama|Romance          1977  1.439112e+07   \n",
       "4     Fantasy|Animation|Comedy|Family          1977  3.597781e+07   \n",
       "\n",
       "    revenue_adj century     profit  \n",
       "0  2.789712e+09    20th  764398007  \n",
       "1  6.671677e+08    20th  171438673  \n",
       "2  2.562191e+08    20th   70015869  \n",
       "3  1.376203e+08    20th   34251425  \n",
       "4  0.000000e+00    20th  -10000000  "
      ]
     },
     "execution_count": 23,
     "metadata": {},
     "output_type": "execute_result"
    }
   ],
   "source": [
    "# create new column \"profit\" by subtract 'budget' from 'revenue'\n",
    "df_cen['profit'] = df_cen['revenue']-df_cen['budget']\n",
    "df_cen.head()"
   ]
  },
  {
   "cell_type": "code",
   "execution_count": 24,
   "metadata": {},
   "outputs": [],
   "source": [
    "# save new dataset for next section\n",
    "df_cen.to_csv('df_v2.csv', index=False)"
   ]
  },
  {
   "cell_type": "code",
   "execution_count": 25,
   "metadata": {},
   "outputs": [],
   "source": [
    "# read data set version 2\n",
    "df = pd.read_csv('df_v2.csv')"
   ]
  },
  {
   "cell_type": "code",
   "execution_count": 26,
   "metadata": {},
   "outputs": [],
   "source": [
    "# get all the hybrids in genres column\n",
    "hyb = df[df['genres'].str.contains('|')]"
   ]
  },
  {
   "cell_type": "code",
   "execution_count": 27,
   "metadata": {},
   "outputs": [],
   "source": [
    "# create two copies of the hybrids dataframe\n",
    "df1 = hyb.copy()  # data on the first genre only\n",
    "df2 = hyb.copy()  # data from the second genre to the last genre"
   ]
  },
  {
   "cell_type": "code",
   "execution_count": 28,
   "metadata": {},
   "outputs": [],
   "source": [
    "# apply split function to 'genres' column of each dataframe copy (df1 and df2)\n",
    "columns = ['genres']\n",
    "for c in columns:\n",
    "    df1[c] = df1[c].apply(lambda x: x.split(\"|\")[0])\n",
    "    df2[c] = df2[c].apply(lambda x: x.split(\"|\")[1:])"
   ]
  },
  {
   "cell_type": "code",
   "execution_count": 29,
   "metadata": {
    "scrolled": true
   },
   "outputs": [
    {
     "data": {
      "text/html": [
       "<div>\n",
       "<style scoped>\n",
       "    .dataframe tbody tr th:only-of-type {\n",
       "        vertical-align: middle;\n",
       "    }\n",
       "\n",
       "    .dataframe tbody tr th {\n",
       "        vertical-align: top;\n",
       "    }\n",
       "\n",
       "    .dataframe thead th {\n",
       "        text-align: right;\n",
       "    }\n",
       "</style>\n",
       "<table border=\"1\" class=\"dataframe\">\n",
       "  <thead>\n",
       "    <tr style=\"text-align: right;\">\n",
       "      <th></th>\n",
       "      <th>popularity</th>\n",
       "      <th>budget</th>\n",
       "      <th>revenue</th>\n",
       "      <th>original_title</th>\n",
       "      <th>director</th>\n",
       "      <th>runtime</th>\n",
       "      <th>genres</th>\n",
       "      <th>release_year</th>\n",
       "      <th>budget_adj</th>\n",
       "      <th>revenue_adj</th>\n",
       "      <th>century</th>\n",
       "      <th>profit</th>\n",
       "    </tr>\n",
       "  </thead>\n",
       "  <tbody>\n",
       "    <tr>\n",
       "      <th>0</th>\n",
       "      <td>12.037933</td>\n",
       "      <td>11000000</td>\n",
       "      <td>775398007</td>\n",
       "      <td>Star Wars</td>\n",
       "      <td>George Lucas</td>\n",
       "      <td>121</td>\n",
       "      <td>Adventure</td>\n",
       "      <td>1977</td>\n",
       "      <td>3.957559e+07</td>\n",
       "      <td>2.789712e+09</td>\n",
       "      <td>20th</td>\n",
       "      <td>764398007</td>\n",
       "    </tr>\n",
       "    <tr>\n",
       "      <th>1</th>\n",
       "      <td>2.379469</td>\n",
       "      <td>14000000</td>\n",
       "      <td>185438673</td>\n",
       "      <td>The Spy Who Loved Me</td>\n",
       "      <td>Lewis Gilbert</td>\n",
       "      <td>125</td>\n",
       "      <td>Adventure</td>\n",
       "      <td>1977</td>\n",
       "      <td>5.036893e+07</td>\n",
       "      <td>6.671677e+08</td>\n",
       "      <td>20th</td>\n",
       "      <td>171438673</td>\n",
       "    </tr>\n",
       "    <tr>\n",
       "      <th>2</th>\n",
       "      <td>1.719385</td>\n",
       "      <td>1200000</td>\n",
       "      <td>71215869</td>\n",
       "      <td>The Rescuers</td>\n",
       "      <td>John Lounsbery|Wolfgang Reitherman|Art Stevens</td>\n",
       "      <td>78</td>\n",
       "      <td>Fantasy</td>\n",
       "      <td>1977</td>\n",
       "      <td>4.317337e+06</td>\n",
       "      <td>2.562191e+08</td>\n",
       "      <td>20th</td>\n",
       "      <td>70015869</td>\n",
       "    </tr>\n",
       "    <tr>\n",
       "      <th>3</th>\n",
       "      <td>1.179653</td>\n",
       "      <td>4000000</td>\n",
       "      <td>38251425</td>\n",
       "      <td>Annie Hall</td>\n",
       "      <td>Woody Allen</td>\n",
       "      <td>93</td>\n",
       "      <td>Comedy</td>\n",
       "      <td>1977</td>\n",
       "      <td>1.439112e+07</td>\n",
       "      <td>1.376203e+08</td>\n",
       "      <td>20th</td>\n",
       "      <td>34251425</td>\n",
       "    </tr>\n",
       "    <tr>\n",
       "      <th>4</th>\n",
       "      <td>1.104997</td>\n",
       "      <td>10000000</td>\n",
       "      <td>0</td>\n",
       "      <td>Pete's Dragon</td>\n",
       "      <td>Don Chaffey</td>\n",
       "      <td>128</td>\n",
       "      <td>Fantasy</td>\n",
       "      <td>1977</td>\n",
       "      <td>3.597781e+07</td>\n",
       "      <td>0.000000e+00</td>\n",
       "      <td>20th</td>\n",
       "      <td>-10000000</td>\n",
       "    </tr>\n",
       "  </tbody>\n",
       "</table>\n",
       "</div>"
      ],
      "text/plain": [
       "   popularity    budget    revenue        original_title  \\\n",
       "0   12.037933  11000000  775398007             Star Wars   \n",
       "1    2.379469  14000000  185438673  The Spy Who Loved Me   \n",
       "2    1.719385   1200000   71215869          The Rescuers   \n",
       "3    1.179653   4000000   38251425            Annie Hall   \n",
       "4    1.104997  10000000          0         Pete's Dragon   \n",
       "\n",
       "                                         director  runtime     genres  \\\n",
       "0                                    George Lucas      121  Adventure   \n",
       "1                                   Lewis Gilbert      125  Adventure   \n",
       "2  John Lounsbery|Wolfgang Reitherman|Art Stevens       78    Fantasy   \n",
       "3                                     Woody Allen       93     Comedy   \n",
       "4                                     Don Chaffey      128    Fantasy   \n",
       "\n",
       "   release_year    budget_adj   revenue_adj century     profit  \n",
       "0          1977  3.957559e+07  2.789712e+09    20th  764398007  \n",
       "1          1977  5.036893e+07  6.671677e+08    20th  171438673  \n",
       "2          1977  4.317337e+06  2.562191e+08    20th   70015869  \n",
       "3          1977  1.439112e+07  1.376203e+08    20th   34251425  \n",
       "4          1977  3.597781e+07  0.000000e+00    20th  -10000000  "
      ]
     },
     "execution_count": 29,
     "metadata": {},
     "output_type": "execute_result"
    }
   ],
   "source": [
    "# check if df1 on 'genres' column has only first type of genres\n",
    "df1.head()"
   ]
  },
  {
   "cell_type": "code",
   "execution_count": 30,
   "metadata": {},
   "outputs": [],
   "source": [
    "# save new clean dataset for next section\n",
    "df1.to_csv('df_clean.csv', index=False)"
   ]
  },
  {
   "cell_type": "markdown",
   "metadata": {},
   "source": [
    "<a id='eda'></a>\n",
    "\n",
    "## <font color='crimson'>3) Exploratory Data Analysis</font>\n",
    "\n",
    "### Exlore the data by statistics and create visualization about the research questions."
   ]
  },
  {
   "cell_type": "code",
   "execution_count": 31,
   "metadata": {
    "scrolled": true
   },
   "outputs": [
    {
     "data": {
      "text/html": [
       "<div>\n",
       "<style scoped>\n",
       "    .dataframe tbody tr th:only-of-type {\n",
       "        vertical-align: middle;\n",
       "    }\n",
       "\n",
       "    .dataframe tbody tr th {\n",
       "        vertical-align: top;\n",
       "    }\n",
       "\n",
       "    .dataframe thead th {\n",
       "        text-align: right;\n",
       "    }\n",
       "</style>\n",
       "<table border=\"1\" class=\"dataframe\">\n",
       "  <thead>\n",
       "    <tr style=\"text-align: right;\">\n",
       "      <th></th>\n",
       "      <th>popularity</th>\n",
       "      <th>budget</th>\n",
       "      <th>revenue</th>\n",
       "      <th>original_title</th>\n",
       "      <th>director</th>\n",
       "      <th>runtime</th>\n",
       "      <th>genres</th>\n",
       "      <th>release_year</th>\n",
       "      <th>budget_adj</th>\n",
       "      <th>revenue_adj</th>\n",
       "      <th>century</th>\n",
       "      <th>profit</th>\n",
       "    </tr>\n",
       "  </thead>\n",
       "  <tbody>\n",
       "    <tr>\n",
       "      <th>0</th>\n",
       "      <td>12.037933</td>\n",
       "      <td>11000000</td>\n",
       "      <td>775398007</td>\n",
       "      <td>Star Wars</td>\n",
       "      <td>George Lucas</td>\n",
       "      <td>121</td>\n",
       "      <td>Adventure</td>\n",
       "      <td>1977</td>\n",
       "      <td>3.957559e+07</td>\n",
       "      <td>2.789712e+09</td>\n",
       "      <td>20th</td>\n",
       "      <td>764398007</td>\n",
       "    </tr>\n",
       "    <tr>\n",
       "      <th>1</th>\n",
       "      <td>2.379469</td>\n",
       "      <td>14000000</td>\n",
       "      <td>185438673</td>\n",
       "      <td>The Spy Who Loved Me</td>\n",
       "      <td>Lewis Gilbert</td>\n",
       "      <td>125</td>\n",
       "      <td>Adventure</td>\n",
       "      <td>1977</td>\n",
       "      <td>5.036893e+07</td>\n",
       "      <td>6.671677e+08</td>\n",
       "      <td>20th</td>\n",
       "      <td>171438673</td>\n",
       "    </tr>\n",
       "    <tr>\n",
       "      <th>2</th>\n",
       "      <td>1.719385</td>\n",
       "      <td>1200000</td>\n",
       "      <td>71215869</td>\n",
       "      <td>The Rescuers</td>\n",
       "      <td>John Lounsbery|Wolfgang Reitherman|Art Stevens</td>\n",
       "      <td>78</td>\n",
       "      <td>Fantasy</td>\n",
       "      <td>1977</td>\n",
       "      <td>4.317337e+06</td>\n",
       "      <td>2.562191e+08</td>\n",
       "      <td>20th</td>\n",
       "      <td>70015869</td>\n",
       "    </tr>\n",
       "    <tr>\n",
       "      <th>3</th>\n",
       "      <td>1.179653</td>\n",
       "      <td>4000000</td>\n",
       "      <td>38251425</td>\n",
       "      <td>Annie Hall</td>\n",
       "      <td>Woody Allen</td>\n",
       "      <td>93</td>\n",
       "      <td>Comedy</td>\n",
       "      <td>1977</td>\n",
       "      <td>1.439112e+07</td>\n",
       "      <td>1.376203e+08</td>\n",
       "      <td>20th</td>\n",
       "      <td>34251425</td>\n",
       "    </tr>\n",
       "    <tr>\n",
       "      <th>4</th>\n",
       "      <td>1.104997</td>\n",
       "      <td>10000000</td>\n",
       "      <td>0</td>\n",
       "      <td>Pete's Dragon</td>\n",
       "      <td>Don Chaffey</td>\n",
       "      <td>128</td>\n",
       "      <td>Fantasy</td>\n",
       "      <td>1977</td>\n",
       "      <td>3.597781e+07</td>\n",
       "      <td>0.000000e+00</td>\n",
       "      <td>20th</td>\n",
       "      <td>-10000000</td>\n",
       "    </tr>\n",
       "  </tbody>\n",
       "</table>\n",
       "</div>"
      ],
      "text/plain": [
       "   popularity    budget    revenue        original_title  \\\n",
       "0   12.037933  11000000  775398007             Star Wars   \n",
       "1    2.379469  14000000  185438673  The Spy Who Loved Me   \n",
       "2    1.719385   1200000   71215869          The Rescuers   \n",
       "3    1.179653   4000000   38251425            Annie Hall   \n",
       "4    1.104997  10000000          0         Pete's Dragon   \n",
       "\n",
       "                                         director  runtime     genres  \\\n",
       "0                                    George Lucas      121  Adventure   \n",
       "1                                   Lewis Gilbert      125  Adventure   \n",
       "2  John Lounsbery|Wolfgang Reitherman|Art Stevens       78    Fantasy   \n",
       "3                                     Woody Allen       93     Comedy   \n",
       "4                                     Don Chaffey      128    Fantasy   \n",
       "\n",
       "   release_year    budget_adj   revenue_adj century     profit  \n",
       "0          1977  3.957559e+07  2.789712e+09    20th  764398007  \n",
       "1          1977  5.036893e+07  6.671677e+08    20th  171438673  \n",
       "2          1977  4.317337e+06  2.562191e+08    20th   70015869  \n",
       "3          1977  1.439112e+07  1.376203e+08    20th   34251425  \n",
       "4          1977  3.597781e+07  0.000000e+00    20th  -10000000  "
      ]
     },
     "execution_count": 31,
     "metadata": {},
     "output_type": "execute_result"
    }
   ],
   "source": [
    "# read clean data set\n",
    "df_c = pd.read_csv('df_clean.csv')\n",
    "df_c.head()"
   ]
  },
  {
   "cell_type": "code",
   "execution_count": 32,
   "metadata": {},
   "outputs": [
    {
     "name": "stdout",
     "output_type": "stream",
     "text": [
      "<class 'pandas.core.frame.DataFrame'>\n",
      "RangeIndex: 10800 entries, 0 to 10799\n",
      "Data columns (total 12 columns):\n",
      "popularity        10800 non-null float64\n",
      "budget            10800 non-null int64\n",
      "revenue           10800 non-null int64\n",
      "original_title    10800 non-null object\n",
      "director          10800 non-null object\n",
      "runtime           10800 non-null int64\n",
      "genres            10800 non-null object\n",
      "release_year      10800 non-null int64\n",
      "budget_adj        10800 non-null float64\n",
      "revenue_adj       10800 non-null float64\n",
      "century           10800 non-null object\n",
      "profit            10800 non-null int64\n",
      "dtypes: float64(3), int64(5), object(4)\n",
      "memory usage: 1012.6+ KB\n"
     ]
    }
   ],
   "source": [
    "# see dataframe info\n",
    "df_c.info()"
   ]
  },
  {
   "cell_type": "code",
   "execution_count": 33,
   "metadata": {
    "scrolled": false
   },
   "outputs": [
    {
     "data": {
      "image/png": "[encoded data removed]",
      "text/plain": [
       "<Figure size 432x288 with 1 Axes>"
      ]
     },
     "metadata": {
      "needs_background": "light"
     },
     "output_type": "display_data"
    }
   ],
   "source": [
    "# visualize histogram of release year\n",
    "df_c.release_year.hist(density=True);"
   ]
  },
  {
   "cell_type": "markdown",
   "metadata": {},
   "source": [
    "#### <font color='orange'>Through the over years movies were launched more and more.</font>"
   ]
  },
  {
   "cell_type": "code",
   "execution_count": 34,
   "metadata": {
    "scrolled": true
   },
   "outputs": [
    {
     "data": {
      "image/png": "[encoded data removed]",
      "text/plain": [
       "<Figure size 432x288 with 1 Axes>"
      ]
     },
     "metadata": {
      "needs_background": "light"
     },
     "output_type": "display_data"
    }
   ],
   "source": [
    "# visualize histogram of profit\n",
    "df_c.profit.hist(density=True);"
   ]
  },
  {
   "cell_type": "markdown",
   "metadata": {},
   "source": [
    "#### <font color='orange'>Profit distribution seem to be Right-skewd.</font>"
   ]
  },
  {
   "cell_type": "code",
   "execution_count": 35,
   "metadata": {
    "scrolled": false
   },
   "outputs": [
    {
     "data": {
      "image/png": "[encoded data removed]",
      "text/plain": [
       "<Figure size 432x288 with 1 Axes>"
      ]
     },
     "metadata": {
      "needs_background": "light"
     },
     "output_type": "display_data"
    }
   ],
   "source": [
    "# visualize scatter between features\n",
    "df_c.plot(x=\"revenue\", y=\"budget\", kind=\"scatter\");"
   ]
  },
  {
   "cell_type": "markdown",
   "metadata": {},
   "source": [
    "#### <font color='orange'>Found positive relationship between revenue and budget.</font>"
   ]
  },
  {
   "cell_type": "code",
   "execution_count": 36,
   "metadata": {},
   "outputs": [
    {
     "data": {
      "image/png": "[encoded data removed]",
      "text/plain": [
       "<Figure size 432x288 with 1 Axes>"
      ]
     },
     "metadata": {
      "needs_background": "light"
     },
     "output_type": "display_data"
    }
   ],
   "source": [
    "df_c.plot(x=\"revenue\", y=\"profit\", kind=\"scatter\");"
   ]
  },
  {
   "cell_type": "markdown",
   "metadata": {},
   "source": [
    "#### <font color='orange'>Found perfectly positive relationship between revenue and profit.<br> Because profit is calculated base on generated revenue.</font>"
   ]
  },
  {
   "cell_type": "code",
   "execution_count": 37,
   "metadata": {
    "scrolled": false
   },
   "outputs": [
    {
     "data": {
      "image/png": "[encoded data removed]",
      "text/plain": [
       "<Figure size 432x288 with 1 Axes>"
      ]
     },
     "metadata": {
      "needs_background": "light"
     },
     "output_type": "display_data"
    }
   ],
   "source": [
    "df_c.plot(x=\"budget\", y=\"profit\", kind=\"scatter\");"
   ]
  },
  {
   "cell_type": "markdown",
   "metadata": {},
   "source": [
    "#### <font color='orange'>Found positive relationship between profit and budget.</font>"
   ]
  },
  {
   "cell_type": "code",
   "execution_count": 38,
   "metadata": {
    "scrolled": false
   },
   "outputs": [
    {
     "data": {
      "image/png": "[encoded data removed]",
      "text/plain": [
       "<Figure size 432x288 with 1 Axes>"
      ]
     },
     "metadata": {
      "needs_background": "light"
     },
     "output_type": "display_data"
    }
   ],
   "source": [
    "df_c.plot(x=\"runtime\", y=\"profit\", kind=\"scatter\");"
   ]
  },
  {
   "cell_type": "markdown",
   "metadata": {},
   "source": [
    "#### <font color='orange'>Found that 100-200 minutes runnning times was the most profitable scheme.</font>"
   ]
  },
  {
   "cell_type": "code",
   "execution_count": 39,
   "metadata": {},
   "outputs": [
    {
     "data": {
      "image/png": "[encoded data removed]",
      "text/plain": [
       "<Figure size 432x288 with 1 Axes>"
      ]
     },
     "metadata": {
      "needs_background": "light"
     },
     "output_type": "display_data"
    }
   ],
   "source": [
    "df_c.plot(x=\"runtime\", y=\"popularity\", kind=\"scatter\");"
   ]
  },
  {
   "cell_type": "markdown",
   "metadata": {},
   "source": [
    "#### <font color='orange'>Found that 100-200 minutes runnning times was also the most popular too.</font>"
   ]
  },
  {
   "cell_type": "code",
   "execution_count": 40,
   "metadata": {
    "scrolled": false
   },
   "outputs": [
    {
     "data": {
      "text/plain": [
       "count     10800\n",
       "unique       20\n",
       "top       Drama\n",
       "freq       2447\n",
       "Name: genres, dtype: object"
      ]
     },
     "execution_count": 40,
     "metadata": {},
     "output_type": "execute_result"
    }
   ],
   "source": [
    "# explore genres column\n",
    "df_c.genres.describe()"
   ]
  },
  {
   "cell_type": "code",
   "execution_count": 41,
   "metadata": {
    "scrolled": true
   },
   "outputs": [
    {
     "data": {
      "text/plain": [
       "array(['Adventure', 'Fantasy', 'Comedy', 'Science Fiction', 'Drama',\n",
       "       'Animation', 'Romance', 'Action', 'Documentary', 'Horror',\n",
       "       'History', 'Family', 'Western', 'Mystery', 'Crime', 'Thriller',\n",
       "       'Music', 'TV Movie', 'Foreign', 'War'], dtype=object)"
      ]
     },
     "execution_count": 41,
     "metadata": {},
     "output_type": "execute_result"
    }
   ],
   "source": [
    "df_c.genres.unique()"
   ]
  },
  {
   "cell_type": "code",
   "execution_count": 42,
   "metadata": {
    "scrolled": true
   },
   "outputs": [
    {
     "data": {
      "text/plain": [
       "2447"
      ]
     },
     "execution_count": 42,
     "metadata": {},
     "output_type": "execute_result"
    }
   ],
   "source": [
    "# new dataframe for find proportion of genres: Drama\n",
    "df_drama = df_c.query('genres ==\"Drama\"')['genres'].count()\n",
    "df_drama"
   ]
  },
  {
   "cell_type": "code",
   "execution_count": 43,
   "metadata": {},
   "outputs": [
    {
     "data": {
      "text/plain": [
       "0.22657407407407407"
      ]
     },
     "execution_count": 43,
     "metadata": {},
     "output_type": "execute_result"
    }
   ],
   "source": [
    "drama_pc = df_drama/df_c.genres.count()\n",
    "drama_pc"
   ]
  },
  {
   "cell_type": "markdown",
   "metadata": {},
   "source": [
    "#### <font color='orange'>20 unique genres found.<br>Drama is the most count at 2,477 times or 22.66% from the clean data set.</font>"
   ]
  },
  {
   "cell_type": "markdown",
   "metadata": {},
   "source": [
    "<a id='conclusions'></a>\n",
    "## <font color='crimson'>4) Conclusions</font>"
   ]
  },
  {
   "cell_type": "markdown",
   "metadata": {},
   "source": [
    "### <font color='purple'>Q1: Which genres generated the most profit over the time?</font>"
   ]
  },
  {
   "cell_type": "code",
   "execution_count": 44,
   "metadata": {
    "scrolled": false
   },
   "outputs": [
    {
     "data": {
      "text/plain": [
       "genres\n",
       "Action             57418137853\n",
       "Adventure          49530172479\n",
       "Animation          20135612280\n",
       "Comedy             43884561239\n",
       "Crime               7617610976\n",
       "Documentary          666244035\n",
       "Drama              36341230673\n",
       "Family              6216564578\n",
       "Fantasy            11925896473\n",
       "Foreign                      0\n",
       "History             1250748175\n",
       "Horror             10292764476\n",
       "Music               1252415911\n",
       "Mystery             1756590111\n",
       "Romance             4976393563\n",
       "Science Fiction    11672539853\n",
       "TV Movie              22500000\n",
       "Thriller            7020512237\n",
       "War                 1361341908\n",
       "Western              486105966\n",
       "Name: profit, dtype: int64"
      ]
     },
     "execution_count": 44,
     "metadata": {},
     "output_type": "execute_result"
    }
   ],
   "source": [
    "df_c.groupby('genres').sum().profit"
   ]
  },
  {
   "cell_type": "code",
   "execution_count": 45,
   "metadata": {
    "scrolled": true
   },
   "outputs": [],
   "source": [
    "top_1 = df_c.query('genres in [\"Action\"]').profit.sum()\n",
    "top_2 = df_c.query('genres in [\"Adventure\"]').profit.sum()\n",
    "top_3 = df_c.query('genres in [\"Comedy\"]').profit.sum()\n",
    "top_4 = df_c.query('genres in [\"Drama\"]').profit.sum()\n",
    "top_5 = df_c.query('genres in [\"Animation\"]').profit.sum()"
   ]
  },
  {
   "cell_type": "code",
   "execution_count": 46,
   "metadata": {
    "scrolled": false
   },
   "outputs": [
    {
     "data": {
      "image/png": "[encoded data removed]",
      "text/plain": [
       "<Figure size 432x288 with 1 Axes>"
      ]
     },
     "metadata": {
      "needs_background": "light"
     },
     "output_type": "display_data"
    }
   ],
   "source": [
    "plt.bar([\"Action\", \"Adventure\", \"Comedy\", \"Drama\", \"Animation\"], [top_1, top_2, top_3, top_4, top_5], color=\"coral\")\n",
    "plt.title(\"Total profit of all times by Top 5 genres\")\n",
    "plt.xlabel(\"genres\")\n",
    "plt.ylabel(\"profit in USD\");"
   ]
  },
  {
   "cell_type": "markdown",
   "metadata": {},
   "source": [
    "#### <font color='orange'>In total, Action movies generated the most total profit at 57,418,137,853 usd.</font>"
   ]
  },
  {
   "cell_type": "markdown",
   "metadata": {},
   "source": [
    "### <font color='purple'>Q2: Are more budget provided to movies in 21st century than 20th century?</font>"
   ]
  },
  {
   "cell_type": "code",
   "execution_count": 47,
   "metadata": {
    "scrolled": true
   },
   "outputs": [
    {
     "data": {
      "text/html": [
       "<div>\n",
       "<style scoped>\n",
       "    .dataframe tbody tr th:only-of-type {\n",
       "        vertical-align: middle;\n",
       "    }\n",
       "\n",
       "    .dataframe tbody tr th {\n",
       "        vertical-align: top;\n",
       "    }\n",
       "\n",
       "    .dataframe thead th {\n",
       "        text-align: right;\n",
       "    }\n",
       "</style>\n",
       "<table border=\"1\" class=\"dataframe\">\n",
       "  <thead>\n",
       "    <tr style=\"text-align: right;\">\n",
       "      <th></th>\n",
       "      <th>count</th>\n",
       "      <th>mean</th>\n",
       "      <th>std</th>\n",
       "      <th>min</th>\n",
       "      <th>25%</th>\n",
       "      <th>50%</th>\n",
       "      <th>75%</th>\n",
       "      <th>max</th>\n",
       "    </tr>\n",
       "    <tr>\n",
       "      <th>century</th>\n",
       "      <th></th>\n",
       "      <th></th>\n",
       "      <th></th>\n",
       "      <th></th>\n",
       "      <th></th>\n",
       "      <th></th>\n",
       "      <th></th>\n",
       "      <th></th>\n",
       "    </tr>\n",
       "  </thead>\n",
       "  <tbody>\n",
       "    <tr>\n",
       "      <th>20th</th>\n",
       "      <td>3914.0</td>\n",
       "      <td>1.121152e+07</td>\n",
       "      <td>2.098833e+07</td>\n",
       "      <td>0.0</td>\n",
       "      <td>0.0</td>\n",
       "      <td>0.0</td>\n",
       "      <td>15000000.0</td>\n",
       "      <td>200000000.0</td>\n",
       "    </tr>\n",
       "    <tr>\n",
       "      <th>21st</th>\n",
       "      <td>6886.0</td>\n",
       "      <td>1.670032e+07</td>\n",
       "      <td>3.528097e+07</td>\n",
       "      <td>0.0</td>\n",
       "      <td>0.0</td>\n",
       "      <td>0.0</td>\n",
       "      <td>17500000.0</td>\n",
       "      <td>425000000.0</td>\n",
       "    </tr>\n",
       "  </tbody>\n",
       "</table>\n",
       "</div>"
      ],
      "text/plain": [
       "          count          mean           std  min  25%  50%         75%  \\\n",
       "century                                                                  \n",
       "20th     3914.0  1.121152e+07  2.098833e+07  0.0  0.0  0.0  15000000.0   \n",
       "21st     6886.0  1.670032e+07  3.528097e+07  0.0  0.0  0.0  17500000.0   \n",
       "\n",
       "                 max  \n",
       "century               \n",
       "20th     200000000.0  \n",
       "21st     425000000.0  "
      ]
     },
     "execution_count": 47,
     "metadata": {},
     "output_type": "execute_result"
    }
   ],
   "source": [
    "df_c.groupby('century')['budget'].describe()"
   ]
  },
  {
   "cell_type": "code",
   "execution_count": 48,
   "metadata": {
    "scrolled": true
   },
   "outputs": [
    {
     "data": {
      "text/plain": [
       "5488801.969380084"
      ]
     },
     "execution_count": 48,
     "metadata": {},
     "output_type": "execute_result"
    }
   ],
   "source": [
    "df_c.query('century == \"21st\"').budget.mean() - df_c.query('century == \"20th\"').budget.mean()"
   ]
  },
  {
   "cell_type": "code",
   "execution_count": 49,
   "metadata": {},
   "outputs": [],
   "source": [
    "bud_20 = df_c.query('century in [\"20th\"]').budget.mean()\n",
    "bud_21 = df_c.query('century in [\"21st\"]').budget.mean()"
   ]
  },
  {
   "cell_type": "code",
   "execution_count": 50,
   "metadata": {},
   "outputs": [
    {
     "data": {
      "image/png": "[encoded data removed]",
      "text/plain": [
       "<Figure size 432x288 with 1 Axes>"
      ]
     },
     "metadata": {
      "needs_background": "light"
     },
     "output_type": "display_data"
    }
   ],
   "source": [
    "plt.scatter(df_c.release_year, df_c.budget, color=\"tan\")\n",
    "plt.title(\"Budget provided by release year\")\n",
    "plt.xlabel(\"Year\")\n",
    "plt.ylabel(\"budget in USD\");"
   ]
  },
  {
   "cell_type": "markdown",
   "metadata": {},
   "source": [
    "#### <font color='orange'> Clearly see that movies after 90's got more budget than ever since.</font><br>\n",
    "#### <font color='orange'>Movies in 21st century get more 5,488,802 usd average budget than movies in 20th century.</font>"
   ]
  },
  {
   "cell_type": "markdown",
   "metadata": {},
   "source": [
    "### <font color='purple'>Q3: What is the most popular movies in 21st century era, what genres is it and what year it released?</font>"
   ]
  },
  {
   "cell_type": "code",
   "execution_count": 51,
   "metadata": {},
   "outputs": [
    {
     "data": {
      "text/html": [
       "<div>\n",
       "<style scoped>\n",
       "    .dataframe tbody tr th:only-of-type {\n",
       "        vertical-align: middle;\n",
       "    }\n",
       "\n",
       "    .dataframe tbody tr th {\n",
       "        vertical-align: top;\n",
       "    }\n",
       "\n",
       "    .dataframe thead th {\n",
       "        text-align: right;\n",
       "    }\n",
       "</style>\n",
       "<table border=\"1\" class=\"dataframe\">\n",
       "  <thead>\n",
       "    <tr style=\"text-align: right;\">\n",
       "      <th></th>\n",
       "      <th>popularity</th>\n",
       "      <th>budget</th>\n",
       "      <th>revenue</th>\n",
       "      <th>original_title</th>\n",
       "      <th>director</th>\n",
       "      <th>runtime</th>\n",
       "      <th>genres</th>\n",
       "      <th>release_year</th>\n",
       "      <th>budget_adj</th>\n",
       "      <th>revenue_adj</th>\n",
       "      <th>century</th>\n",
       "      <th>profit</th>\n",
       "    </tr>\n",
       "  </thead>\n",
       "  <tbody>\n",
       "    <tr>\n",
       "      <th>3914</th>\n",
       "      <td>32.985763</td>\n",
       "      <td>150000000</td>\n",
       "      <td>1513528810</td>\n",
       "      <td>Jurassic World</td>\n",
       "      <td>Colin Trevorrow</td>\n",
       "      <td>124</td>\n",
       "      <td>Action</td>\n",
       "      <td>2015</td>\n",
       "      <td>1.379999e+08</td>\n",
       "      <td>1.392446e+09</td>\n",
       "      <td>21st</td>\n",
       "      <td>1363528810</td>\n",
       "    </tr>\n",
       "    <tr>\n",
       "      <th>3915</th>\n",
       "      <td>28.419936</td>\n",
       "      <td>150000000</td>\n",
       "      <td>378436354</td>\n",
       "      <td>Mad Max: Fury Road</td>\n",
       "      <td>George Miller</td>\n",
       "      <td>120</td>\n",
       "      <td>Action</td>\n",
       "      <td>2015</td>\n",
       "      <td>1.379999e+08</td>\n",
       "      <td>3.481613e+08</td>\n",
       "      <td>21st</td>\n",
       "      <td>228436354</td>\n",
       "    </tr>\n",
       "    <tr>\n",
       "      <th>3916</th>\n",
       "      <td>13.112507</td>\n",
       "      <td>110000000</td>\n",
       "      <td>295238201</td>\n",
       "      <td>Insurgent</td>\n",
       "      <td>Robert Schwentke</td>\n",
       "      <td>119</td>\n",
       "      <td>Adventure</td>\n",
       "      <td>2015</td>\n",
       "      <td>1.012000e+08</td>\n",
       "      <td>2.716190e+08</td>\n",
       "      <td>21st</td>\n",
       "      <td>185238201</td>\n",
       "    </tr>\n",
       "    <tr>\n",
       "      <th>3917</th>\n",
       "      <td>11.173104</td>\n",
       "      <td>200000000</td>\n",
       "      <td>2068178225</td>\n",
       "      <td>Star Wars: The Force Awakens</td>\n",
       "      <td>J.J. Abrams</td>\n",
       "      <td>136</td>\n",
       "      <td>Action</td>\n",
       "      <td>2015</td>\n",
       "      <td>1.839999e+08</td>\n",
       "      <td>1.902723e+09</td>\n",
       "      <td>21st</td>\n",
       "      <td>1868178225</td>\n",
       "    </tr>\n",
       "    <tr>\n",
       "      <th>3918</th>\n",
       "      <td>9.335014</td>\n",
       "      <td>190000000</td>\n",
       "      <td>1506249360</td>\n",
       "      <td>Furious 7</td>\n",
       "      <td>James Wan</td>\n",
       "      <td>137</td>\n",
       "      <td>Action</td>\n",
       "      <td>2015</td>\n",
       "      <td>1.747999e+08</td>\n",
       "      <td>1.385749e+09</td>\n",
       "      <td>21st</td>\n",
       "      <td>1316249360</td>\n",
       "    </tr>\n",
       "  </tbody>\n",
       "</table>\n",
       "</div>"
      ],
      "text/plain": [
       "      popularity     budget     revenue                original_title  \\\n",
       "3914   32.985763  150000000  1513528810                Jurassic World   \n",
       "3915   28.419936  150000000   378436354            Mad Max: Fury Road   \n",
       "3916   13.112507  110000000   295238201                     Insurgent   \n",
       "3917   11.173104  200000000  2068178225  Star Wars: The Force Awakens   \n",
       "3918    9.335014  190000000  1506249360                     Furious 7   \n",
       "\n",
       "              director  runtime     genres  release_year    budget_adj  \\\n",
       "3914   Colin Trevorrow      124     Action          2015  1.379999e+08   \n",
       "3915     George Miller      120     Action          2015  1.379999e+08   \n",
       "3916  Robert Schwentke      119  Adventure          2015  1.012000e+08   \n",
       "3917       J.J. Abrams      136     Action          2015  1.839999e+08   \n",
       "3918         James Wan      137     Action          2015  1.747999e+08   \n",
       "\n",
       "       revenue_adj century      profit  \n",
       "3914  1.392446e+09    21st  1363528810  \n",
       "3915  3.481613e+08    21st   228436354  \n",
       "3916  2.716190e+08    21st   185238201  \n",
       "3917  1.902723e+09    21st  1868178225  \n",
       "3918  1.385749e+09    21st  1316249360  "
      ]
     },
     "execution_count": 51,
     "metadata": {},
     "output_type": "execute_result"
    }
   ],
   "source": [
    "# query only 21st century data\n",
    "df_max_pop_21 = df_c.query('century == \"21st\"')\n",
    "df_max_pop_21.head()"
   ]
  },
  {
   "cell_type": "code",
   "execution_count": 52,
   "metadata": {
    "scrolled": true
   },
   "outputs": [
    {
     "data": {
      "text/plain": [
       "32.985763"
      ]
     },
     "execution_count": 52,
     "metadata": {},
     "output_type": "execute_result"
    }
   ],
   "source": [
    "# check popularity rate of the most popular movies in 21st century\n",
    "df_max_pop_21.popularity.max()"
   ]
  },
  {
   "cell_type": "code",
   "execution_count": 53,
   "metadata": {},
   "outputs": [
    {
     "data": {
      "text/html": [
       "<div>\n",
       "<style scoped>\n",
       "    .dataframe tbody tr th:only-of-type {\n",
       "        vertical-align: middle;\n",
       "    }\n",
       "\n",
       "    .dataframe tbody tr th {\n",
       "        vertical-align: top;\n",
       "    }\n",
       "\n",
       "    .dataframe thead th {\n",
       "        text-align: right;\n",
       "    }\n",
       "</style>\n",
       "<table border=\"1\" class=\"dataframe\">\n",
       "  <thead>\n",
       "    <tr style=\"text-align: right;\">\n",
       "      <th></th>\n",
       "      <th>budget</th>\n",
       "      <th>revenue</th>\n",
       "      <th>original_title</th>\n",
       "      <th>director</th>\n",
       "      <th>runtime</th>\n",
       "      <th>genres</th>\n",
       "      <th>release_year</th>\n",
       "      <th>budget_adj</th>\n",
       "      <th>revenue_adj</th>\n",
       "      <th>century</th>\n",
       "      <th>profit</th>\n",
       "    </tr>\n",
       "    <tr>\n",
       "      <th>popularity</th>\n",
       "      <th></th>\n",
       "      <th></th>\n",
       "      <th></th>\n",
       "      <th></th>\n",
       "      <th></th>\n",
       "      <th></th>\n",
       "      <th></th>\n",
       "      <th></th>\n",
       "      <th></th>\n",
       "      <th></th>\n",
       "      <th></th>\n",
       "    </tr>\n",
       "  </thead>\n",
       "  <tbody>\n",
       "    <tr>\n",
       "      <th>32.985763</th>\n",
       "      <td>150000000</td>\n",
       "      <td>1513528810</td>\n",
       "      <td>Jurassic World</td>\n",
       "      <td>Colin Trevorrow</td>\n",
       "      <td>124</td>\n",
       "      <td>Action</td>\n",
       "      <td>2015</td>\n",
       "      <td>1.379999e+08</td>\n",
       "      <td>1.392446e+09</td>\n",
       "      <td>21st</td>\n",
       "      <td>1363528810</td>\n",
       "    </tr>\n",
       "    <tr>\n",
       "      <th>28.419936</th>\n",
       "      <td>150000000</td>\n",
       "      <td>378436354</td>\n",
       "      <td>Mad Max: Fury Road</td>\n",
       "      <td>George Miller</td>\n",
       "      <td>120</td>\n",
       "      <td>Action</td>\n",
       "      <td>2015</td>\n",
       "      <td>1.379999e+08</td>\n",
       "      <td>3.481613e+08</td>\n",
       "      <td>21st</td>\n",
       "      <td>228436354</td>\n",
       "    </tr>\n",
       "    <tr>\n",
       "      <th>13.112507</th>\n",
       "      <td>110000000</td>\n",
       "      <td>295238201</td>\n",
       "      <td>Insurgent</td>\n",
       "      <td>Robert Schwentke</td>\n",
       "      <td>119</td>\n",
       "      <td>Adventure</td>\n",
       "      <td>2015</td>\n",
       "      <td>1.012000e+08</td>\n",
       "      <td>2.716190e+08</td>\n",
       "      <td>21st</td>\n",
       "      <td>185238201</td>\n",
       "    </tr>\n",
       "    <tr>\n",
       "      <th>11.173104</th>\n",
       "      <td>200000000</td>\n",
       "      <td>2068178225</td>\n",
       "      <td>Star Wars: The Force Awakens</td>\n",
       "      <td>J.J. Abrams</td>\n",
       "      <td>136</td>\n",
       "      <td>Action</td>\n",
       "      <td>2015</td>\n",
       "      <td>1.839999e+08</td>\n",
       "      <td>1.902723e+09</td>\n",
       "      <td>21st</td>\n",
       "      <td>1868178225</td>\n",
       "    </tr>\n",
       "    <tr>\n",
       "      <th>9.335014</th>\n",
       "      <td>190000000</td>\n",
       "      <td>1506249360</td>\n",
       "      <td>Furious 7</td>\n",
       "      <td>James Wan</td>\n",
       "      <td>137</td>\n",
       "      <td>Action</td>\n",
       "      <td>2015</td>\n",
       "      <td>1.747999e+08</td>\n",
       "      <td>1.385749e+09</td>\n",
       "      <td>21st</td>\n",
       "      <td>1316249360</td>\n",
       "    </tr>\n",
       "  </tbody>\n",
       "</table>\n",
       "</div>"
      ],
      "text/plain": [
       "               budget     revenue                original_title  \\\n",
       "popularity                                                        \n",
       "32.985763   150000000  1513528810                Jurassic World   \n",
       "28.419936   150000000   378436354            Mad Max: Fury Road   \n",
       "13.112507   110000000   295238201                     Insurgent   \n",
       "11.173104   200000000  2068178225  Star Wars: The Force Awakens   \n",
       "9.335014    190000000  1506249360                     Furious 7   \n",
       "\n",
       "                    director  runtime     genres  release_year    budget_adj  \\\n",
       "popularity                                                                     \n",
       "32.985763    Colin Trevorrow      124     Action          2015  1.379999e+08   \n",
       "28.419936      George Miller      120     Action          2015  1.379999e+08   \n",
       "13.112507   Robert Schwentke      119  Adventure          2015  1.012000e+08   \n",
       "11.173104        J.J. Abrams      136     Action          2015  1.839999e+08   \n",
       "9.335014           James Wan      137     Action          2015  1.747999e+08   \n",
       "\n",
       "             revenue_adj century      profit  \n",
       "popularity                                    \n",
       "32.985763   1.392446e+09    21st  1363528810  \n",
       "28.419936   3.481613e+08    21st   228436354  \n",
       "13.112507   2.716190e+08    21st   185238201  \n",
       "11.173104   1.902723e+09    21st  1868178225  \n",
       "9.335014    1.385749e+09    21st  1316249360  "
      ]
     },
     "execution_count": 53,
     "metadata": {},
     "output_type": "execute_result"
    }
   ],
   "source": [
    "# set popularuty to be index\n",
    "df_pop = df_max_pop_21.set_index('popularity')\n",
    "df_pop.head()"
   ]
  },
  {
   "cell_type": "code",
   "execution_count": 54,
   "metadata": {
    "scrolled": true
   },
   "outputs": [
    {
     "data": {
      "text/html": [
       "<div>\n",
       "<style scoped>\n",
       "    .dataframe tbody tr th:only-of-type {\n",
       "        vertical-align: middle;\n",
       "    }\n",
       "\n",
       "    .dataframe tbody tr th {\n",
       "        vertical-align: top;\n",
       "    }\n",
       "\n",
       "    .dataframe thead th {\n",
       "        text-align: right;\n",
       "    }\n",
       "</style>\n",
       "<table border=\"1\" class=\"dataframe\">\n",
       "  <thead>\n",
       "    <tr style=\"text-align: right;\">\n",
       "      <th></th>\n",
       "      <th>budget</th>\n",
       "      <th>revenue</th>\n",
       "      <th>original_title</th>\n",
       "      <th>director</th>\n",
       "      <th>runtime</th>\n",
       "      <th>genres</th>\n",
       "      <th>release_year</th>\n",
       "      <th>budget_adj</th>\n",
       "      <th>revenue_adj</th>\n",
       "      <th>century</th>\n",
       "      <th>profit</th>\n",
       "    </tr>\n",
       "    <tr>\n",
       "      <th>popularity</th>\n",
       "      <th></th>\n",
       "      <th></th>\n",
       "      <th></th>\n",
       "      <th></th>\n",
       "      <th></th>\n",
       "      <th></th>\n",
       "      <th></th>\n",
       "      <th></th>\n",
       "      <th></th>\n",
       "      <th></th>\n",
       "      <th></th>\n",
       "    </tr>\n",
       "  </thead>\n",
       "  <tbody>\n",
       "    <tr>\n",
       "      <th>32.985763</th>\n",
       "      <td>150000000</td>\n",
       "      <td>1513528810</td>\n",
       "      <td>Jurassic World</td>\n",
       "      <td>Colin Trevorrow</td>\n",
       "      <td>124</td>\n",
       "      <td>Action</td>\n",
       "      <td>2015</td>\n",
       "      <td>1.379999e+08</td>\n",
       "      <td>1.392446e+09</td>\n",
       "      <td>21st</td>\n",
       "      <td>1363528810</td>\n",
       "    </tr>\n",
       "  </tbody>\n",
       "</table>\n",
       "</div>"
      ],
      "text/plain": [
       "               budget     revenue  original_title         director  runtime  \\\n",
       "popularity                                                                    \n",
       "32.985763   150000000  1513528810  Jurassic World  Colin Trevorrow      124   \n",
       "\n",
       "            genres  release_year    budget_adj   revenue_adj century  \\\n",
       "popularity                                                             \n",
       "32.985763   Action          2015  1.379999e+08  1.392446e+09    21st   \n",
       "\n",
       "                profit  \n",
       "popularity              \n",
       "32.985763   1363528810  "
      ]
     },
     "execution_count": 54,
     "metadata": {},
     "output_type": "execute_result"
    }
   ],
   "source": [
    "# find the properties of the most popular movies\n",
    "pop_21 = df_pop.query('popularity == 32.985763')\n",
    "pop_21"
   ]
  },
  {
   "cell_type": "markdown",
   "metadata": {},
   "source": [
    "#### <font color='orange'>Jurassic World is the most popular movies in 21st century.</font><br>\n",
    "#### <font color='orange'>It's an action movies with released in 2015.</font>"
   ]
  },
  {
   "cell_type": "markdown",
   "metadata": {},
   "source": [
    "### <font color='purple'>Q4: Who is director of the most popular movies in 20th century and the amount of profit that movie got?</font>"
   ]
  },
  {
   "cell_type": "code",
   "execution_count": 55,
   "metadata": {},
   "outputs": [
    {
     "data": {
      "text/html": [
       "<div>\n",
       "<style scoped>\n",
       "    .dataframe tbody tr th:only-of-type {\n",
       "        vertical-align: middle;\n",
       "    }\n",
       "\n",
       "    .dataframe tbody tr th {\n",
       "        vertical-align: top;\n",
       "    }\n",
       "\n",
       "    .dataframe thead th {\n",
       "        text-align: right;\n",
       "    }\n",
       "</style>\n",
       "<table border=\"1\" class=\"dataframe\">\n",
       "  <thead>\n",
       "    <tr style=\"text-align: right;\">\n",
       "      <th></th>\n",
       "      <th>popularity</th>\n",
       "      <th>budget</th>\n",
       "      <th>revenue</th>\n",
       "      <th>original_title</th>\n",
       "      <th>director</th>\n",
       "      <th>runtime</th>\n",
       "      <th>genres</th>\n",
       "      <th>release_year</th>\n",
       "      <th>budget_adj</th>\n",
       "      <th>revenue_adj</th>\n",
       "      <th>century</th>\n",
       "      <th>profit</th>\n",
       "    </tr>\n",
       "  </thead>\n",
       "  <tbody>\n",
       "    <tr>\n",
       "      <th>0</th>\n",
       "      <td>12.037933</td>\n",
       "      <td>11000000</td>\n",
       "      <td>775398007</td>\n",
       "      <td>Star Wars</td>\n",
       "      <td>George Lucas</td>\n",
       "      <td>121</td>\n",
       "      <td>Adventure</td>\n",
       "      <td>1977</td>\n",
       "      <td>3.957559e+07</td>\n",
       "      <td>2.789712e+09</td>\n",
       "      <td>20th</td>\n",
       "      <td>764398007</td>\n",
       "    </tr>\n",
       "    <tr>\n",
       "      <th>1</th>\n",
       "      <td>2.379469</td>\n",
       "      <td>14000000</td>\n",
       "      <td>185438673</td>\n",
       "      <td>The Spy Who Loved Me</td>\n",
       "      <td>Lewis Gilbert</td>\n",
       "      <td>125</td>\n",
       "      <td>Adventure</td>\n",
       "      <td>1977</td>\n",
       "      <td>5.036893e+07</td>\n",
       "      <td>6.671677e+08</td>\n",
       "      <td>20th</td>\n",
       "      <td>171438673</td>\n",
       "    </tr>\n",
       "    <tr>\n",
       "      <th>2</th>\n",
       "      <td>1.719385</td>\n",
       "      <td>1200000</td>\n",
       "      <td>71215869</td>\n",
       "      <td>The Rescuers</td>\n",
       "      <td>John Lounsbery|Wolfgang Reitherman|Art Stevens</td>\n",
       "      <td>78</td>\n",
       "      <td>Fantasy</td>\n",
       "      <td>1977</td>\n",
       "      <td>4.317337e+06</td>\n",
       "      <td>2.562191e+08</td>\n",
       "      <td>20th</td>\n",
       "      <td>70015869</td>\n",
       "    </tr>\n",
       "    <tr>\n",
       "      <th>3</th>\n",
       "      <td>1.179653</td>\n",
       "      <td>4000000</td>\n",
       "      <td>38251425</td>\n",
       "      <td>Annie Hall</td>\n",
       "      <td>Woody Allen</td>\n",
       "      <td>93</td>\n",
       "      <td>Comedy</td>\n",
       "      <td>1977</td>\n",
       "      <td>1.439112e+07</td>\n",
       "      <td>1.376203e+08</td>\n",
       "      <td>20th</td>\n",
       "      <td>34251425</td>\n",
       "    </tr>\n",
       "    <tr>\n",
       "      <th>4</th>\n",
       "      <td>1.104997</td>\n",
       "      <td>10000000</td>\n",
       "      <td>0</td>\n",
       "      <td>Pete's Dragon</td>\n",
       "      <td>Don Chaffey</td>\n",
       "      <td>128</td>\n",
       "      <td>Fantasy</td>\n",
       "      <td>1977</td>\n",
       "      <td>3.597781e+07</td>\n",
       "      <td>0.000000e+00</td>\n",
       "      <td>20th</td>\n",
       "      <td>-10000000</td>\n",
       "    </tr>\n",
       "  </tbody>\n",
       "</table>\n",
       "</div>"
      ],
      "text/plain": [
       "   popularity    budget    revenue        original_title  \\\n",
       "0   12.037933  11000000  775398007             Star Wars   \n",
       "1    2.379469  14000000  185438673  The Spy Who Loved Me   \n",
       "2    1.719385   1200000   71215869          The Rescuers   \n",
       "3    1.179653   4000000   38251425            Annie Hall   \n",
       "4    1.104997  10000000          0         Pete's Dragon   \n",
       "\n",
       "                                         director  runtime     genres  \\\n",
       "0                                    George Lucas      121  Adventure   \n",
       "1                                   Lewis Gilbert      125  Adventure   \n",
       "2  John Lounsbery|Wolfgang Reitherman|Art Stevens       78    Fantasy   \n",
       "3                                     Woody Allen       93     Comedy   \n",
       "4                                     Don Chaffey      128    Fantasy   \n",
       "\n",
       "   release_year    budget_adj   revenue_adj century     profit  \n",
       "0          1977  3.957559e+07  2.789712e+09    20th  764398007  \n",
       "1          1977  5.036893e+07  6.671677e+08    20th  171438673  \n",
       "2          1977  4.317337e+06  2.562191e+08    20th   70015869  \n",
       "3          1977  1.439112e+07  1.376203e+08    20th   34251425  \n",
       "4          1977  3.597781e+07  0.000000e+00    20th  -10000000  "
      ]
     },
     "execution_count": 55,
     "metadata": {},
     "output_type": "execute_result"
    }
   ],
   "source": [
    "# query only 20th century data\n",
    "df_max_pop_20 = df_c.query('century == \"20th\"')\n",
    "df_max_pop_20.head()"
   ]
  },
  {
   "cell_type": "code",
   "execution_count": 56,
   "metadata": {},
   "outputs": [
    {
     "data": {
      "text/plain": [
       "12.037933"
      ]
     },
     "execution_count": 56,
     "metadata": {},
     "output_type": "execute_result"
    }
   ],
   "source": [
    "# check popularity rate of the most popular movies in 20th century\n",
    "df_max_pop_20.popularity.max()"
   ]
  },
  {
   "cell_type": "code",
   "execution_count": 57,
   "metadata": {},
   "outputs": [
    {
     "data": {
      "text/html": [
       "<div>\n",
       "<style scoped>\n",
       "    .dataframe tbody tr th:only-of-type {\n",
       "        vertical-align: middle;\n",
       "    }\n",
       "\n",
       "    .dataframe tbody tr th {\n",
       "        vertical-align: top;\n",
       "    }\n",
       "\n",
       "    .dataframe thead th {\n",
       "        text-align: right;\n",
       "    }\n",
       "</style>\n",
       "<table border=\"1\" class=\"dataframe\">\n",
       "  <thead>\n",
       "    <tr style=\"text-align: right;\">\n",
       "      <th></th>\n",
       "      <th>budget</th>\n",
       "      <th>revenue</th>\n",
       "      <th>original_title</th>\n",
       "      <th>director</th>\n",
       "      <th>runtime</th>\n",
       "      <th>genres</th>\n",
       "      <th>release_year</th>\n",
       "      <th>budget_adj</th>\n",
       "      <th>revenue_adj</th>\n",
       "      <th>century</th>\n",
       "      <th>profit</th>\n",
       "    </tr>\n",
       "    <tr>\n",
       "      <th>popularity</th>\n",
       "      <th></th>\n",
       "      <th></th>\n",
       "      <th></th>\n",
       "      <th></th>\n",
       "      <th></th>\n",
       "      <th></th>\n",
       "      <th></th>\n",
       "      <th></th>\n",
       "      <th></th>\n",
       "      <th></th>\n",
       "      <th></th>\n",
       "    </tr>\n",
       "  </thead>\n",
       "  <tbody>\n",
       "    <tr>\n",
       "      <th>12.037933</th>\n",
       "      <td>11000000</td>\n",
       "      <td>775398007</td>\n",
       "      <td>Star Wars</td>\n",
       "      <td>George Lucas</td>\n",
       "      <td>121</td>\n",
       "      <td>Adventure</td>\n",
       "      <td>1977</td>\n",
       "      <td>3.957559e+07</td>\n",
       "      <td>2.789712e+09</td>\n",
       "      <td>20th</td>\n",
       "      <td>764398007</td>\n",
       "    </tr>\n",
       "    <tr>\n",
       "      <th>2.379469</th>\n",
       "      <td>14000000</td>\n",
       "      <td>185438673</td>\n",
       "      <td>The Spy Who Loved Me</td>\n",
       "      <td>Lewis Gilbert</td>\n",
       "      <td>125</td>\n",
       "      <td>Adventure</td>\n",
       "      <td>1977</td>\n",
       "      <td>5.036893e+07</td>\n",
       "      <td>6.671677e+08</td>\n",
       "      <td>20th</td>\n",
       "      <td>171438673</td>\n",
       "    </tr>\n",
       "    <tr>\n",
       "      <th>1.719385</th>\n",
       "      <td>1200000</td>\n",
       "      <td>71215869</td>\n",
       "      <td>The Rescuers</td>\n",
       "      <td>John Lounsbery|Wolfgang Reitherman|Art Stevens</td>\n",
       "      <td>78</td>\n",
       "      <td>Fantasy</td>\n",
       "      <td>1977</td>\n",
       "      <td>4.317337e+06</td>\n",
       "      <td>2.562191e+08</td>\n",
       "      <td>20th</td>\n",
       "      <td>70015869</td>\n",
       "    </tr>\n",
       "    <tr>\n",
       "      <th>1.179653</th>\n",
       "      <td>4000000</td>\n",
       "      <td>38251425</td>\n",
       "      <td>Annie Hall</td>\n",
       "      <td>Woody Allen</td>\n",
       "      <td>93</td>\n",
       "      <td>Comedy</td>\n",
       "      <td>1977</td>\n",
       "      <td>1.439112e+07</td>\n",
       "      <td>1.376203e+08</td>\n",
       "      <td>20th</td>\n",
       "      <td>34251425</td>\n",
       "    </tr>\n",
       "    <tr>\n",
       "      <th>1.104997</th>\n",
       "      <td>10000000</td>\n",
       "      <td>0</td>\n",
       "      <td>Pete's Dragon</td>\n",
       "      <td>Don Chaffey</td>\n",
       "      <td>128</td>\n",
       "      <td>Fantasy</td>\n",
       "      <td>1977</td>\n",
       "      <td>3.597781e+07</td>\n",
       "      <td>0.000000e+00</td>\n",
       "      <td>20th</td>\n",
       "      <td>-10000000</td>\n",
       "    </tr>\n",
       "  </tbody>\n",
       "</table>\n",
       "</div>"
      ],
      "text/plain": [
       "              budget    revenue        original_title  \\\n",
       "popularity                                              \n",
       "12.037933   11000000  775398007             Star Wars   \n",
       "2.379469    14000000  185438673  The Spy Who Loved Me   \n",
       "1.719385     1200000   71215869          The Rescuers   \n",
       "1.179653     4000000   38251425            Annie Hall   \n",
       "1.104997    10000000          0         Pete's Dragon   \n",
       "\n",
       "                                                  director  runtime  \\\n",
       "popularity                                                            \n",
       "12.037933                                     George Lucas      121   \n",
       "2.379469                                     Lewis Gilbert      125   \n",
       "1.719385    John Lounsbery|Wolfgang Reitherman|Art Stevens       78   \n",
       "1.179653                                       Woody Allen       93   \n",
       "1.104997                                       Don Chaffey      128   \n",
       "\n",
       "               genres  release_year    budget_adj   revenue_adj century  \\\n",
       "popularity                                                                \n",
       "12.037933   Adventure          1977  3.957559e+07  2.789712e+09    20th   \n",
       "2.379469    Adventure          1977  5.036893e+07  6.671677e+08    20th   \n",
       "1.719385      Fantasy          1977  4.317337e+06  2.562191e+08    20th   \n",
       "1.179653       Comedy          1977  1.439112e+07  1.376203e+08    20th   \n",
       "1.104997      Fantasy          1977  3.597781e+07  0.000000e+00    20th   \n",
       "\n",
       "               profit  \n",
       "popularity             \n",
       "12.037933   764398007  \n",
       "2.379469    171438673  \n",
       "1.719385     70015869  \n",
       "1.179653     34251425  \n",
       "1.104997    -10000000  "
      ]
     },
     "execution_count": 57,
     "metadata": {},
     "output_type": "execute_result"
    }
   ],
   "source": [
    "# set popularuty to be index\n",
    "df_pop = df_max_pop_20.set_index('popularity')\n",
    "df_pop.head()"
   ]
  },
  {
   "cell_type": "code",
   "execution_count": 58,
   "metadata": {},
   "outputs": [
    {
     "data": {
      "text/html": [
       "<div>\n",
       "<style scoped>\n",
       "    .dataframe tbody tr th:only-of-type {\n",
       "        vertical-align: middle;\n",
       "    }\n",
       "\n",
       "    .dataframe tbody tr th {\n",
       "        vertical-align: top;\n",
       "    }\n",
       "\n",
       "    .dataframe thead th {\n",
       "        text-align: right;\n",
       "    }\n",
       "</style>\n",
       "<table border=\"1\" class=\"dataframe\">\n",
       "  <thead>\n",
       "    <tr style=\"text-align: right;\">\n",
       "      <th></th>\n",
       "      <th>budget</th>\n",
       "      <th>revenue</th>\n",
       "      <th>original_title</th>\n",
       "      <th>director</th>\n",
       "      <th>runtime</th>\n",
       "      <th>genres</th>\n",
       "      <th>release_year</th>\n",
       "      <th>budget_adj</th>\n",
       "      <th>revenue_adj</th>\n",
       "      <th>century</th>\n",
       "      <th>profit</th>\n",
       "    </tr>\n",
       "    <tr>\n",
       "      <th>popularity</th>\n",
       "      <th></th>\n",
       "      <th></th>\n",
       "      <th></th>\n",
       "      <th></th>\n",
       "      <th></th>\n",
       "      <th></th>\n",
       "      <th></th>\n",
       "      <th></th>\n",
       "      <th></th>\n",
       "      <th></th>\n",
       "      <th></th>\n",
       "    </tr>\n",
       "  </thead>\n",
       "  <tbody>\n",
       "    <tr>\n",
       "      <th>12.037933</th>\n",
       "      <td>11000000</td>\n",
       "      <td>775398007</td>\n",
       "      <td>Star Wars</td>\n",
       "      <td>George Lucas</td>\n",
       "      <td>121</td>\n",
       "      <td>Adventure</td>\n",
       "      <td>1977</td>\n",
       "      <td>3.957559e+07</td>\n",
       "      <td>2.789712e+09</td>\n",
       "      <td>20th</td>\n",
       "      <td>764398007</td>\n",
       "    </tr>\n",
       "  </tbody>\n",
       "</table>\n",
       "</div>"
      ],
      "text/plain": [
       "              budget    revenue original_title      director  runtime  \\\n",
       "popularity                                                              \n",
       "12.037933   11000000  775398007      Star Wars  George Lucas      121   \n",
       "\n",
       "               genres  release_year    budget_adj   revenue_adj century  \\\n",
       "popularity                                                                \n",
       "12.037933   Adventure          1977  3.957559e+07  2.789712e+09    20th   \n",
       "\n",
       "               profit  \n",
       "popularity             \n",
       "12.037933   764398007  "
      ]
     },
     "execution_count": 58,
     "metadata": {},
     "output_type": "execute_result"
    }
   ],
   "source": [
    "# find the properties of the most popular movies\n",
    "pop_20 = df_pop.query('popularity == 12.037933')\n",
    "pop_20"
   ]
  },
  {
   "cell_type": "markdown",
   "metadata": {},
   "source": [
    "#### <font color='orange'>Star Wars is the most popular movies in 20th century.</font><br>\n",
    "#### <font color='orange'>The director is George Lucas and it generated profit 764,398,007 usd.</font>"
   ]
  },
  {
   "cell_type": "markdown",
   "metadata": {},
   "source": [
    "### <font color='purple'>Q5: Are there association between the run time and other features?</font>"
   ]
  },
  {
   "cell_type": "code",
   "execution_count": 59,
   "metadata": {
    "scrolled": true
   },
   "outputs": [
    {
     "data": {
      "text/html": [
       "<div>\n",
       "<style scoped>\n",
       "    .dataframe tbody tr th:only-of-type {\n",
       "        vertical-align: middle;\n",
       "    }\n",
       "\n",
       "    .dataframe tbody tr th {\n",
       "        vertical-align: top;\n",
       "    }\n",
       "\n",
       "    .dataframe thead th {\n",
       "        text-align: right;\n",
       "    }\n",
       "</style>\n",
       "<table border=\"1\" class=\"dataframe\">\n",
       "  <thead>\n",
       "    <tr style=\"text-align: right;\">\n",
       "      <th></th>\n",
       "      <th></th>\n",
       "      <th>popularity</th>\n",
       "      <th>budget</th>\n",
       "      <th>revenue</th>\n",
       "      <th>runtime</th>\n",
       "      <th>release_year</th>\n",
       "      <th>budget_adj</th>\n",
       "      <th>revenue_adj</th>\n",
       "      <th>profit</th>\n",
       "    </tr>\n",
       "    <tr>\n",
       "      <th>century</th>\n",
       "      <th>genres</th>\n",
       "      <th></th>\n",
       "      <th></th>\n",
       "      <th></th>\n",
       "      <th></th>\n",
       "      <th></th>\n",
       "      <th></th>\n",
       "      <th></th>\n",
       "      <th></th>\n",
       "    </tr>\n",
       "  </thead>\n",
       "  <tbody>\n",
       "    <tr>\n",
       "      <th rowspan=\"20\" valign=\"top\">20th</th>\n",
       "      <th>Action</th>\n",
       "      <td>0.387981</td>\n",
       "      <td>360000.0</td>\n",
       "      <td>2275557.0</td>\n",
       "      <td>104.0</td>\n",
       "      <td>1990.0</td>\n",
       "      <td>1.350569e+06</td>\n",
       "      <td>3.444327e+06</td>\n",
       "      <td>0.0</td>\n",
       "    </tr>\n",
       "    <tr>\n",
       "      <th>Adventure</th>\n",
       "      <td>0.534980</td>\n",
       "      <td>7000000.0</td>\n",
       "      <td>13504408.5</td>\n",
       "      <td>107.0</td>\n",
       "      <td>1988.5</td>\n",
       "      <td>2.550264e+07</td>\n",
       "      <td>2.746045e+07</td>\n",
       "      <td>0.0</td>\n",
       "    </tr>\n",
       "    <tr>\n",
       "      <th>Animation</th>\n",
       "      <td>0.431932</td>\n",
       "      <td>0.0</td>\n",
       "      <td>0.0</td>\n",
       "      <td>77.0</td>\n",
       "      <td>1993.0</td>\n",
       "      <td>0.000000e+00</td>\n",
       "      <td>0.000000e+00</td>\n",
       "      <td>0.0</td>\n",
       "    </tr>\n",
       "    <tr>\n",
       "      <th>Comedy</th>\n",
       "      <td>0.349526</td>\n",
       "      <td>0.0</td>\n",
       "      <td>0.0</td>\n",
       "      <td>98.0</td>\n",
       "      <td>1991.0</td>\n",
       "      <td>0.000000e+00</td>\n",
       "      <td>0.000000e+00</td>\n",
       "      <td>0.0</td>\n",
       "    </tr>\n",
       "    <tr>\n",
       "      <th>Crime</th>\n",
       "      <td>0.424045</td>\n",
       "      <td>2000000.0</td>\n",
       "      <td>7892145.5</td>\n",
       "      <td>110.0</td>\n",
       "      <td>1989.0</td>\n",
       "      <td>6.810459e+06</td>\n",
       "      <td>1.587932e+07</td>\n",
       "      <td>37146.5</td>\n",
       "    </tr>\n",
       "    <tr>\n",
       "      <th>Documentary</th>\n",
       "      <td>0.146683</td>\n",
       "      <td>0.0</td>\n",
       "      <td>0.0</td>\n",
       "      <td>98.0</td>\n",
       "      <td>1989.0</td>\n",
       "      <td>0.000000e+00</td>\n",
       "      <td>0.000000e+00</td>\n",
       "      <td>0.0</td>\n",
       "    </tr>\n",
       "    <tr>\n",
       "      <th>Drama</th>\n",
       "      <td>0.360130</td>\n",
       "      <td>0.0</td>\n",
       "      <td>0.0</td>\n",
       "      <td>112.0</td>\n",
       "      <td>1991.0</td>\n",
       "      <td>0.000000e+00</td>\n",
       "      <td>0.000000e+00</td>\n",
       "      <td>0.0</td>\n",
       "    </tr>\n",
       "    <tr>\n",
       "      <th>Family</th>\n",
       "      <td>0.489761</td>\n",
       "      <td>0.0</td>\n",
       "      <td>0.0</td>\n",
       "      <td>89.5</td>\n",
       "      <td>1994.0</td>\n",
       "      <td>0.000000e+00</td>\n",
       "      <td>0.000000e+00</td>\n",
       "      <td>0.0</td>\n",
       "    </tr>\n",
       "    <tr>\n",
       "      <th>Fantasy</th>\n",
       "      <td>0.402621</td>\n",
       "      <td>3.0</td>\n",
       "      <td>16.0</td>\n",
       "      <td>100.0</td>\n",
       "      <td>1991.0</td>\n",
       "      <td>5.006696e+00</td>\n",
       "      <td>2.670238e+01</td>\n",
       "      <td>0.0</td>\n",
       "    </tr>\n",
       "    <tr>\n",
       "      <th>Foreign</th>\n",
       "      <td>0.205712</td>\n",
       "      <td>0.0</td>\n",
       "      <td>0.0</td>\n",
       "      <td>125.0</td>\n",
       "      <td>1995.0</td>\n",
       "      <td>0.000000e+00</td>\n",
       "      <td>0.000000e+00</td>\n",
       "      <td>0.0</td>\n",
       "    </tr>\n",
       "    <tr>\n",
       "      <th>History</th>\n",
       "      <td>0.381352</td>\n",
       "      <td>15000000.0</td>\n",
       "      <td>0.0</td>\n",
       "      <td>125.0</td>\n",
       "      <td>1995.0</td>\n",
       "      <td>3.566559e+07</td>\n",
       "      <td>0.000000e+00</td>\n",
       "      <td>0.0</td>\n",
       "    </tr>\n",
       "    <tr>\n",
       "      <th>Horror</th>\n",
       "      <td>0.324254</td>\n",
       "      <td>437500.0</td>\n",
       "      <td>0.0</td>\n",
       "      <td>93.0</td>\n",
       "      <td>1985.0</td>\n",
       "      <td>1.406922e+06</td>\n",
       "      <td>0.000000e+00</td>\n",
       "      <td>0.0</td>\n",
       "    </tr>\n",
       "    <tr>\n",
       "      <th>Music</th>\n",
       "      <td>0.380140</td>\n",
       "      <td>3600000.0</td>\n",
       "      <td>1958151.5</td>\n",
       "      <td>108.5</td>\n",
       "      <td>1988.5</td>\n",
       "      <td>9.807785e+06</td>\n",
       "      <td>3.610618e+06</td>\n",
       "      <td>0.0</td>\n",
       "    </tr>\n",
       "    <tr>\n",
       "      <th>Mystery</th>\n",
       "      <td>0.334813</td>\n",
       "      <td>0.0</td>\n",
       "      <td>0.0</td>\n",
       "      <td>107.5</td>\n",
       "      <td>1988.5</td>\n",
       "      <td>0.000000e+00</td>\n",
       "      <td>0.000000e+00</td>\n",
       "      <td>0.0</td>\n",
       "    </tr>\n",
       "    <tr>\n",
       "      <th>Romance</th>\n",
       "      <td>0.495616</td>\n",
       "      <td>2750000.0</td>\n",
       "      <td>7151746.0</td>\n",
       "      <td>106.0</td>\n",
       "      <td>1992.0</td>\n",
       "      <td>5.987296e+06</td>\n",
       "      <td>9.646546e+06</td>\n",
       "      <td>546087.5</td>\n",
       "    </tr>\n",
       "    <tr>\n",
       "      <th>Science Fiction</th>\n",
       "      <td>0.488700</td>\n",
       "      <td>10500000.0</td>\n",
       "      <td>4884663.0</td>\n",
       "      <td>103.0</td>\n",
       "      <td>1986.0</td>\n",
       "      <td>2.173537e+07</td>\n",
       "      <td>9.717580e+06</td>\n",
       "      <td>0.0</td>\n",
       "    </tr>\n",
       "    <tr>\n",
       "      <th>TV Movie</th>\n",
       "      <td>0.161600</td>\n",
       "      <td>0.0</td>\n",
       "      <td>0.0</td>\n",
       "      <td>95.0</td>\n",
       "      <td>1988.0</td>\n",
       "      <td>0.000000e+00</td>\n",
       "      <td>0.000000e+00</td>\n",
       "      <td>0.0</td>\n",
       "    </tr>\n",
       "    <tr>\n",
       "      <th>Thriller</th>\n",
       "      <td>0.390811</td>\n",
       "      <td>125000.0</td>\n",
       "      <td>0.0</td>\n",
       "      <td>104.5</td>\n",
       "      <td>1990.0</td>\n",
       "      <td>1.698075e+05</td>\n",
       "      <td>0.000000e+00</td>\n",
       "      <td>0.0</td>\n",
       "    </tr>\n",
       "    <tr>\n",
       "      <th>War</th>\n",
       "      <td>0.293158</td>\n",
       "      <td>0.0</td>\n",
       "      <td>0.0</td>\n",
       "      <td>129.0</td>\n",
       "      <td>1982.5</td>\n",
       "      <td>0.000000e+00</td>\n",
       "      <td>0.000000e+00</td>\n",
       "      <td>0.0</td>\n",
       "    </tr>\n",
       "    <tr>\n",
       "      <th>Western</th>\n",
       "      <td>0.319636</td>\n",
       "      <td>0.0</td>\n",
       "      <td>0.0</td>\n",
       "      <td>109.0</td>\n",
       "      <td>1972.0</td>\n",
       "      <td>0.000000e+00</td>\n",
       "      <td>0.000000e+00</td>\n",
       "      <td>0.0</td>\n",
       "    </tr>\n",
       "    <tr>\n",
       "      <th rowspan=\"20\" valign=\"top\">21st</th>\n",
       "      <th>Action</th>\n",
       "      <td>0.484414</td>\n",
       "      <td>9000000.0</td>\n",
       "      <td>10698.5</td>\n",
       "      <td>98.0</td>\n",
       "      <td>2009.0</td>\n",
       "      <td>9.199996e+06</td>\n",
       "      <td>1.001415e+04</td>\n",
       "      <td>0.0</td>\n",
       "    </tr>\n",
       "    <tr>\n",
       "      <th>Adventure</th>\n",
       "      <td>0.676655</td>\n",
       "      <td>21000000.0</td>\n",
       "      <td>11109229.0</td>\n",
       "      <td>100.0</td>\n",
       "      <td>2008.0</td>\n",
       "      <td>2.372533e+07</td>\n",
       "      <td>1.159262e+07</td>\n",
       "      <td>0.0</td>\n",
       "    </tr>\n",
       "    <tr>\n",
       "      <th>Animation</th>\n",
       "      <td>0.538755</td>\n",
       "      <td>0.0</td>\n",
       "      <td>0.0</td>\n",
       "      <td>77.0</td>\n",
       "      <td>2009.0</td>\n",
       "      <td>0.000000e+00</td>\n",
       "      <td>0.000000e+00</td>\n",
       "      <td>0.0</td>\n",
       "    </tr>\n",
       "    <tr>\n",
       "      <th>Comedy</th>\n",
       "      <td>0.378725</td>\n",
       "      <td>0.0</td>\n",
       "      <td>0.0</td>\n",
       "      <td>95.0</td>\n",
       "      <td>2009.0</td>\n",
       "      <td>0.000000e+00</td>\n",
       "      <td>0.000000e+00</td>\n",
       "      <td>0.0</td>\n",
       "    </tr>\n",
       "    <tr>\n",
       "      <th>Crime</th>\n",
       "      <td>0.451804</td>\n",
       "      <td>3000000.0</td>\n",
       "      <td>7879.0</td>\n",
       "      <td>104.0</td>\n",
       "      <td>2009.0</td>\n",
       "      <td>3.349690e+06</td>\n",
       "      <td>7.809587e+03</td>\n",
       "      <td>0.0</td>\n",
       "    </tr>\n",
       "    <tr>\n",
       "      <th>Documentary</th>\n",
       "      <td>0.142518</td>\n",
       "      <td>0.0</td>\n",
       "      <td>0.0</td>\n",
       "      <td>93.0</td>\n",
       "      <td>2012.0</td>\n",
       "      <td>0.000000e+00</td>\n",
       "      <td>0.000000e+00</td>\n",
       "      <td>0.0</td>\n",
       "    </tr>\n",
       "    <tr>\n",
       "      <th>Drama</th>\n",
       "      <td>0.383044</td>\n",
       "      <td>0.0</td>\n",
       "      <td>0.0</td>\n",
       "      <td>104.0</td>\n",
       "      <td>2010.0</td>\n",
       "      <td>0.000000e+00</td>\n",
       "      <td>0.000000e+00</td>\n",
       "      <td>0.0</td>\n",
       "    </tr>\n",
       "    <tr>\n",
       "      <th>Family</th>\n",
       "      <td>0.418932</td>\n",
       "      <td>0.0</td>\n",
       "      <td>0.0</td>\n",
       "      <td>88.5</td>\n",
       "      <td>2011.0</td>\n",
       "      <td>0.000000e+00</td>\n",
       "      <td>0.000000e+00</td>\n",
       "      <td>0.0</td>\n",
       "    </tr>\n",
       "    <tr>\n",
       "      <th>Fantasy</th>\n",
       "      <td>0.527458</td>\n",
       "      <td>800000.0</td>\n",
       "      <td>0.0</td>\n",
       "      <td>96.0</td>\n",
       "      <td>2009.0</td>\n",
       "      <td>7.488267e+05</td>\n",
       "      <td>0.000000e+00</td>\n",
       "      <td>0.0</td>\n",
       "    </tr>\n",
       "    <tr>\n",
       "      <th>Foreign</th>\n",
       "      <td>0.136851</td>\n",
       "      <td>0.0</td>\n",
       "      <td>0.0</td>\n",
       "      <td>94.5</td>\n",
       "      <td>2009.0</td>\n",
       "      <td>0.000000e+00</td>\n",
       "      <td>0.000000e+00</td>\n",
       "      <td>0.0</td>\n",
       "    </tr>\n",
       "    <tr>\n",
       "      <th>History</th>\n",
       "      <td>0.370540</td>\n",
       "      <td>0.0</td>\n",
       "      <td>641.0</td>\n",
       "      <td>113.0</td>\n",
       "      <td>2014.0</td>\n",
       "      <td>0.000000e+00</td>\n",
       "      <td>5.999974e+02</td>\n",
       "      <td>0.0</td>\n",
       "    </tr>\n",
       "    <tr>\n",
       "      <th>Horror</th>\n",
       "      <td>0.335800</td>\n",
       "      <td>0.0</td>\n",
       "      <td>0.0</td>\n",
       "      <td>90.0</td>\n",
       "      <td>2011.0</td>\n",
       "      <td>0.000000e+00</td>\n",
       "      <td>0.000000e+00</td>\n",
       "      <td>0.0</td>\n",
       "    </tr>\n",
       "    <tr>\n",
       "      <th>Music</th>\n",
       "      <td>0.272431</td>\n",
       "      <td>0.0</td>\n",
       "      <td>0.0</td>\n",
       "      <td>104.5</td>\n",
       "      <td>2012.0</td>\n",
       "      <td>0.000000e+00</td>\n",
       "      <td>0.000000e+00</td>\n",
       "      <td>0.0</td>\n",
       "    </tr>\n",
       "    <tr>\n",
       "      <th>Mystery</th>\n",
       "      <td>0.331665</td>\n",
       "      <td>0.0</td>\n",
       "      <td>0.0</td>\n",
       "      <td>96.0</td>\n",
       "      <td>2011.0</td>\n",
       "      <td>0.000000e+00</td>\n",
       "      <td>0.000000e+00</td>\n",
       "      <td>0.0</td>\n",
       "    </tr>\n",
       "    <tr>\n",
       "      <th>Romance</th>\n",
       "      <td>0.339709</td>\n",
       "      <td>0.0</td>\n",
       "      <td>0.0</td>\n",
       "      <td>100.0</td>\n",
       "      <td>2013.0</td>\n",
       "      <td>0.000000e+00</td>\n",
       "      <td>0.000000e+00</td>\n",
       "      <td>0.0</td>\n",
       "    </tr>\n",
       "    <tr>\n",
       "      <th>Science Fiction</th>\n",
       "      <td>0.469332</td>\n",
       "      <td>7000.0</td>\n",
       "      <td>0.0</td>\n",
       "      <td>93.0</td>\n",
       "      <td>2012.0</td>\n",
       "      <td>8.081118e+03</td>\n",
       "      <td>0.000000e+00</td>\n",
       "      <td>0.0</td>\n",
       "    </tr>\n",
       "    <tr>\n",
       "      <th>TV Movie</th>\n",
       "      <td>0.221355</td>\n",
       "      <td>0.0</td>\n",
       "      <td>0.0</td>\n",
       "      <td>90.0</td>\n",
       "      <td>2011.0</td>\n",
       "      <td>0.000000e+00</td>\n",
       "      <td>0.000000e+00</td>\n",
       "      <td>0.0</td>\n",
       "    </tr>\n",
       "    <tr>\n",
       "      <th>Thriller</th>\n",
       "      <td>0.463427</td>\n",
       "      <td>0.0</td>\n",
       "      <td>0.0</td>\n",
       "      <td>96.0</td>\n",
       "      <td>2013.0</td>\n",
       "      <td>0.000000e+00</td>\n",
       "      <td>0.000000e+00</td>\n",
       "      <td>0.0</td>\n",
       "    </tr>\n",
       "    <tr>\n",
       "      <th>War</th>\n",
       "      <td>0.507092</td>\n",
       "      <td>10000.0</td>\n",
       "      <td>0.0</td>\n",
       "      <td>113.0</td>\n",
       "      <td>2011.0</td>\n",
       "      <td>1.000000e+04</td>\n",
       "      <td>0.000000e+00</td>\n",
       "      <td>0.0</td>\n",
       "    </tr>\n",
       "    <tr>\n",
       "      <th>Western</th>\n",
       "      <td>0.815044</td>\n",
       "      <td>22000000.0</td>\n",
       "      <td>2429989.0</td>\n",
       "      <td>115.0</td>\n",
       "      <td>2007.0</td>\n",
       "      <td>2.607776e+07</td>\n",
       "      <td>2.238241e+06</td>\n",
       "      <td>0.0</td>\n",
       "    </tr>\n",
       "  </tbody>\n",
       "</table>\n",
       "</div>"
      ],
      "text/plain": [
       "                         popularity      budget     revenue  runtime  \\\n",
       "century genres                                                         \n",
       "20th    Action             0.387981    360000.0   2275557.0    104.0   \n",
       "        Adventure          0.534980   7000000.0  13504408.5    107.0   \n",
       "        Animation          0.431932         0.0         0.0     77.0   \n",
       "        Comedy             0.349526         0.0         0.0     98.0   \n",
       "        Crime              0.424045   2000000.0   7892145.5    110.0   \n",
       "        Documentary        0.146683         0.0         0.0     98.0   \n",
       "        Drama              0.360130         0.0         0.0    112.0   \n",
       "        Family             0.489761         0.0         0.0     89.5   \n",
       "        Fantasy            0.402621         3.0        16.0    100.0   \n",
       "        Foreign            0.205712         0.0         0.0    125.0   \n",
       "        History            0.381352  15000000.0         0.0    125.0   \n",
       "        Horror             0.324254    437500.0         0.0     93.0   \n",
       "        Music              0.380140   3600000.0   1958151.5    108.5   \n",
       "        Mystery            0.334813         0.0         0.0    107.5   \n",
       "        Romance            0.495616   2750000.0   7151746.0    106.0   \n",
       "        Science Fiction    0.488700  10500000.0   4884663.0    103.0   \n",
       "        TV Movie           0.161600         0.0         0.0     95.0   \n",
       "        Thriller           0.390811    125000.0         0.0    104.5   \n",
       "        War                0.293158         0.0         0.0    129.0   \n",
       "        Western            0.319636         0.0         0.0    109.0   \n",
       "21st    Action             0.484414   9000000.0     10698.5     98.0   \n",
       "        Adventure          0.676655  21000000.0  11109229.0    100.0   \n",
       "        Animation          0.538755         0.0         0.0     77.0   \n",
       "        Comedy             0.378725         0.0         0.0     95.0   \n",
       "        Crime              0.451804   3000000.0      7879.0    104.0   \n",
       "        Documentary        0.142518         0.0         0.0     93.0   \n",
       "        Drama              0.383044         0.0         0.0    104.0   \n",
       "        Family             0.418932         0.0         0.0     88.5   \n",
       "        Fantasy            0.527458    800000.0         0.0     96.0   \n",
       "        Foreign            0.136851         0.0         0.0     94.5   \n",
       "        History            0.370540         0.0       641.0    113.0   \n",
       "        Horror             0.335800         0.0         0.0     90.0   \n",
       "        Music              0.272431         0.0         0.0    104.5   \n",
       "        Mystery            0.331665         0.0         0.0     96.0   \n",
       "        Romance            0.339709         0.0         0.0    100.0   \n",
       "        Science Fiction    0.469332      7000.0         0.0     93.0   \n",
       "        TV Movie           0.221355         0.0         0.0     90.0   \n",
       "        Thriller           0.463427         0.0         0.0     96.0   \n",
       "        War                0.507092     10000.0         0.0    113.0   \n",
       "        Western            0.815044  22000000.0   2429989.0    115.0   \n",
       "\n",
       "                         release_year    budget_adj   revenue_adj    profit  \n",
       "century genres                                                               \n",
       "20th    Action                 1990.0  1.350569e+06  3.444327e+06       0.0  \n",
       "        Adventure              1988.5  2.550264e+07  2.746045e+07       0.0  \n",
       "        Animation              1993.0  0.000000e+00  0.000000e+00       0.0  \n",
       "        Comedy                 1991.0  0.000000e+00  0.000000e+00       0.0  \n",
       "        Crime                  1989.0  6.810459e+06  1.587932e+07   37146.5  \n",
       "        Documentary            1989.0  0.000000e+00  0.000000e+00       0.0  \n",
       "        Drama                  1991.0  0.000000e+00  0.000000e+00       0.0  \n",
       "        Family                 1994.0  0.000000e+00  0.000000e+00       0.0  \n",
       "        Fantasy                1991.0  5.006696e+00  2.670238e+01       0.0  \n",
       "        Foreign                1995.0  0.000000e+00  0.000000e+00       0.0  \n",
       "        History                1995.0  3.566559e+07  0.000000e+00       0.0  \n",
       "        Horror                 1985.0  1.406922e+06  0.000000e+00       0.0  \n",
       "        Music                  1988.5  9.807785e+06  3.610618e+06       0.0  \n",
       "        Mystery                1988.5  0.000000e+00  0.000000e+00       0.0  \n",
       "        Romance                1992.0  5.987296e+06  9.646546e+06  546087.5  \n",
       "        Science Fiction        1986.0  2.173537e+07  9.717580e+06       0.0  \n",
       "        TV Movie               1988.0  0.000000e+00  0.000000e+00       0.0  \n",
       "        Thriller               1990.0  1.698075e+05  0.000000e+00       0.0  \n",
       "        War                    1982.5  0.000000e+00  0.000000e+00       0.0  \n",
       "        Western                1972.0  0.000000e+00  0.000000e+00       0.0  \n",
       "21st    Action                 2009.0  9.199996e+06  1.001415e+04       0.0  \n",
       "        Adventure              2008.0  2.372533e+07  1.159262e+07       0.0  \n",
       "        Animation              2009.0  0.000000e+00  0.000000e+00       0.0  \n",
       "        Comedy                 2009.0  0.000000e+00  0.000000e+00       0.0  \n",
       "        Crime                  2009.0  3.349690e+06  7.809587e+03       0.0  \n",
       "        Documentary            2012.0  0.000000e+00  0.000000e+00       0.0  \n",
       "        Drama                  2010.0  0.000000e+00  0.000000e+00       0.0  \n",
       "        Family                 2011.0  0.000000e+00  0.000000e+00       0.0  \n",
       "        Fantasy                2009.0  7.488267e+05  0.000000e+00       0.0  \n",
       "        Foreign                2009.0  0.000000e+00  0.000000e+00       0.0  \n",
       "        History                2014.0  0.000000e+00  5.999974e+02       0.0  \n",
       "        Horror                 2011.0  0.000000e+00  0.000000e+00       0.0  \n",
       "        Music                  2012.0  0.000000e+00  0.000000e+00       0.0  \n",
       "        Mystery                2011.0  0.000000e+00  0.000000e+00       0.0  \n",
       "        Romance                2013.0  0.000000e+00  0.000000e+00       0.0  \n",
       "        Science Fiction        2012.0  8.081118e+03  0.000000e+00       0.0  \n",
       "        TV Movie               2011.0  0.000000e+00  0.000000e+00       0.0  \n",
       "        Thriller               2013.0  0.000000e+00  0.000000e+00       0.0  \n",
       "        War                    2011.0  1.000000e+04  0.000000e+00       0.0  \n",
       "        Western                2007.0  2.607776e+07  2.238241e+06       0.0  "
      ]
     },
     "execution_count": 59,
     "metadata": {},
     "output_type": "execute_result"
    }
   ],
   "source": [
    "# consider median of runtime with features roughly\n",
    "df_c.groupby(['century','genres']).median()"
   ]
  },
  {
   "cell_type": "code",
   "execution_count": 60,
   "metadata": {},
   "outputs": [],
   "source": [
    "df_20 = df_c.query('century == \"20th\"')\n",
    "runt_20 = np.array(df_20.runtime)"
   ]
  },
  {
   "cell_type": "code",
   "execution_count": 61,
   "metadata": {},
   "outputs": [],
   "source": [
    "df_21 = df_c.query('century == \"21st\"')\n",
    "runt_21 = np.array(df_21.runtime)"
   ]
  },
  {
   "cell_type": "code",
   "execution_count": 62,
   "metadata": {
    "scrolled": true
   },
   "outputs": [
    {
     "data": {
      "image/png": "[encoded data removed]",
      "text/plain": [
       "<Figure size 432x288 with 1 Axes>"
      ]
     },
     "metadata": {
      "needs_background": "light"
     },
     "output_type": "display_data"
    }
   ],
   "source": [
    "plt.scatter(df_20.runtime, df_20.profit, color='salmon', s=50, alpha=.8, label='20th')\n",
    "plt.scatter(df_21.runtime, df_21.profit, color='mediumseagreen', s=40, alpha=.1, label='21st')\n",
    "plt.title(\"Runtime vs Profit\")\n",
    "plt.xlabel(\"runtime in minutes\")\n",
    "plt.ylabel(\"profit in USD\");"
   ]
  },
  {
   "cell_type": "code",
   "execution_count": 63,
   "metadata": {
    "scrolled": true
   },
   "outputs": [
    {
     "data": {
      "image/png": "[encoded data removed]",
      "text/plain": [
       "<Figure size 432x288 with 1 Axes>"
      ]
     },
     "metadata": {
      "needs_background": "light"
     },
     "output_type": "display_data"
    }
   ],
   "source": [
    "plt.scatter(df_20.runtime, df_20.revenue, color='royalblue', s=50, alpha=.8, label='20th')\n",
    "plt.scatter(df_21.runtime, df_21.revenue, color='yellow', s=40, alpha=.1, label='21st')\n",
    "plt.title(\"Runtime vs Revenue\")\n",
    "plt.xlabel(\"runtime in minutes\")\n",
    "plt.ylabel(\"revenue in USD\");"
   ]
  },
  {
   "cell_type": "code",
   "execution_count": 64,
   "metadata": {
    "scrolled": true
   },
   "outputs": [
    {
     "data": {
      "image/png": "[encoded data removed]",
      "text/plain": [
       "<Figure size 432x288 with 1 Axes>"
      ]
     },
     "metadata": {
      "needs_background": "light"
     },
     "output_type": "display_data"
    }
   ],
   "source": [
    "plt.scatter(df_20.runtime, df_20.popularity, color='chocolate', s=50, alpha=.8, label='20th')\n",
    "plt.scatter(df_21.runtime, df_21.popularity, color='gainsboro', s=40, alpha=.1, label='21st')\n",
    "plt.title(\"Runtime vs Popularity\")\n",
    "plt.xlabel(\"runtime in minutes\")\n",
    "plt.ylabel(\"popularity\");"
   ]
  },
  {
   "cell_type": "markdown",
   "metadata": {},
   "source": [
    "#### <font color='orange'>Longer runtime does not mean high gain in either amount of money and popularity.</font>"
   ]
  },
  {
   "cell_type": "code",
   "execution_count": 65,
   "metadata": {},
   "outputs": [
    {
     "data": {
      "text/plain": [
       "0"
      ]
     },
     "execution_count": 65,
     "metadata": {},
     "output_type": "execute_result"
    }
   ],
   "source": [
    "from subprocess import call\n",
    "call(['python', '-m', 'nbconvert', 'Investigate_a_Dataset.ipynb'])"
   ]
  },
  {
   "cell_type": "markdown",
   "metadata": {},
   "source": [
    "## Reference Web sites<br>\n",
    "https://matplotlib.org/examples/color/named_colors.html<br>\n",
    "https://pandas.pydata.org/pandas-docs/stable/reference/indexing.html<br>\n",
    "https://stackoverflow.com/questions/41906199/how-to-make-a-new-line-in-a-jupyter-markdown-cell"
   ]
  }
 ],
 "metadata": {
  "kernelspec": {
   "display_name": "Python 3",
   "language": "python",
   "name": "python3"
  },
  "language_info": {
   "codemirror_mode": {
    "name": "ipython",
    "version": 3
   },
   "file_extension": ".py",
   "mimetype": "text/x-python",
   "name": "python",
   "nbconvert_exporter": "python",
   "pygments_lexer": "ipython3",
   "version": "3.6.8"
  }
 },
 "nbformat": 4,
 "nbformat_minor": 2
}
